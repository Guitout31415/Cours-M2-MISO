{
 "cells": [
  {
   "cell_type": "markdown",
   "id": "f40fec13",
   "metadata": {},
   "source": [
    "# Exercice 1 : Exemples simples\n",
    "### Q1)\n",
    "\n",
    "Il faut vérifier :\n",
    "- [x] faiblement réversible\n",
    "- [x] déficience zéro = 0"
   ]
  },
  {
   "cell_type": "markdown",
   "id": "560f1361",
   "metadata": {},
   "source": [
    "$A\\overset{k}{\\longrightarrow} \\emptyset$ : NON, car pas faiblement réversible\n",
    "\n",
    "-------\n",
    "$A\\overset{k}{\\longrightarrow} B$ : NON, car pas faiblement réversible\n",
    "\n",
    "----\n",
    "$A\\overset{k_1}{\\underset{k_2}{\\rightleftharpoons}} \\emptyset$ : OUI\n",
    "\n",
    "- On a $2$ réactions réversibles dans 1 classe, donc le réseau est faiblement réversible.\n",
    "- $\\delta = 2-1-\\text{rang}\\pmatrix{-1 & 1\\\\ 0 & 0}=2-1-1=0$\n",
    "----\n",
    "$A\\overset{k}{\\longrightarrow} B, B\\overset{k}{\\longrightarrow} C, C\\overset{k}{\\longrightarrow} A$ : OUI\n",
    "\n",
    "- On a $3$ réactions réversibles dans 1 classe, donc le réseau est faiblement réversible.\n",
    "- $\\delta = 3-1-\\text{rang}\\pmatrix{-1&0&1\\\\1&-1&0\\\\0&1&-1} = 3-1-2=0$\n",
    "\n",
    "---\n",
    "$A\\overset{k_1}{\\longrightarrow} B, 2B\\overset{k_2}{\\longrightarrow}2A$ : OUI\n",
    "\n",
    "- On a $2$ réactions réversibles dans 2 classes, donc le réseau est faiblement réversible.\n",
    "- $\\delta = 3-2-\\text{rang}\\pmatrix{-1&2\\\\1&-2} = 3-2-1=0$\n",
    "\n",
    "-------\n",
    "$2A\\overset{k_1}{\\underset{k_2}{\\rightleftharpoons}} B$ : OUI\n",
    "\n",
    "- On a $2$ réactions réversibles dans 1 classe, donc le réseau est faiblement réversible.\n",
    "- $\\delta = 3-2-\\text{rang}\\pmatrix{-2&1\\\\2&-1} = 3-2-1=0$\n",
    "\n",
    "-----\n",
    "$A+B\\overset{k_1}{\\underset{k_2}{\\rightleftharpoons}} C$ : OUI\n",
    "\n",
    "- On a $2$ réactions réversibles dans 1 classe, donc le réseau est faiblement réversible.\n",
    "- $\\delta = 3-2-\\text{rang}\\pmatrix{-1&1\\\\-1&1\\\\1&-1} = 3-2-1=0$\n",
    "\n",
    "-------\n",
    "$P+P\\overset{k_1}{\\underset{k_{-1}}{\\rightleftharpoons}} P_2,\\; P+P_2\\overset{k_2}{\\underset{k_{-2}}{\\rightleftharpoons}} P_3,\\;...,\\;\n",
    "P+P_{n-1}\\overset{k_{n-1}}{\\underset{k_{-(n-1)}}{\\rightleftharpoons}} P_N$ : OUI\n",
    "- On a $2(n-1)$ réactions réversibles dans $2(n-1)$ classes, donc le réseau est faiblement réversible.\n",
    "- $\\delta = 3-2-\\text{rang}\n",
    "\\pmatrix{-2&2&-1&1&-1&1&\\cdots&-1&1\\\\\n",
    "         1&-1&-1&1&0&0&\\cdots&0&0\\\\\n",
    "         0&0&1&-1&-1&1&\\cdots&0&0\\\\\n",
    "         0&0&0&0&1&-1&\\cdots&0&0\\\\\n",
    "      \\vdots&\\vdots&\\vdots&\\vdots&\\ddots&\\ddots&\\ddots&\\vdots&\\vdots\\\\\n",
    "0&0&0&0&0&0&0&-1&1\\\\0&0&0&0&0&0&0&1&-1}$\n",
    "$= 2(n-1)-(n-1)-(n-1)=0$ \n",
    "\n",
    "car on remarque que $\\forall k\\in 2\\mathbb{N}, c_{k+1}=-c_k$, donc si on applique la transformation $c_{k+1}\\leftarrow c_{k+1}+c_k$, on obtient $n-1$ colonnes non nulle. Donc $\\text{rang(M)}=n-1$"
   ]
  },
  {
   "cell_type": "markdown",
   "id": "d3ce21a3",
   "metadata": {},
   "source": [
    "# Exercice 2\n",
    "### Q1)\n",
    "\n",
    "Non, il n'est pas faiblement réversible.\n",
    "On ne sais pas s'il existe un unique équilibre pour chaque classe de compatibilité."
   ]
  },
  {
   "cell_type": "markdown",
   "id": "8e4987d3",
   "metadata": {},
   "source": [
    "-----\n",
    "### Q2) "
   ]
  },
  {
   "cell_type": "code",
   "execution_count": 3,
   "id": "14a6ddde",
   "metadata": {},
   "outputs": [
    {
     "data": {
      "application/vnd.jupyter.widget-view+json": {
       "model_id": "b2cff2377ceb4877b711a1713fb97f51",
       "version_major": 2,
       "version_minor": 0
      },
      "text/plain": [
       "interactive(children=(FloatSlider(value=10.0, description='A0', max=20.0), FloatSlider(value=10.0, description…"
      ]
     },
     "metadata": {},
     "output_type": "display_data"
    },
    {
     "data": {
      "text/plain": [
       "<function __main__.plot_graph(f, A0, B0, k1, k2)>"
      ]
     },
     "execution_count": 3,
     "metadata": {},
     "output_type": "execute_result"
    }
   ],
   "source": [
    "import numpy as np\n",
    "import matplotlib.pyplot as plt\n",
    "from scipy.integrate import odeint\n",
    "from ipywidgets import interact, fixed\n",
    "\n",
    "def f(X, t, k1, k2):\n",
    "    A, B = X[0], X[1]\n",
    "    return [-2*k1*A**2+k2*B,\n",
    "            2*k1*A**2-k2*B]\n",
    "\n",
    "def plot_graph(f, A0, B0, k1, k2):\n",
    "    t_max = 1\n",
    "    X0 = [A0, B0] # conditions initiale A, B\n",
    "    N = 100\n",
    "    tvals = np.linspace(0, t_max, N+1)\n",
    "    K = (k1, k2)\n",
    "\n",
    "    Xvals = odeint(f, X0, tvals, args=K)\n",
    "\n",
    "    plt.figure(figsize=(10,5))\n",
    "    plt.plot(tvals, Xvals, label=[\"A\", \"B\"])\n",
    "    plt.title(\"2A -k1-> B, B -k2-> 2A\")\n",
    "    plt.xlabel(\"t\")\n",
    "    plt.ylabel(\"Concentration\")\n",
    "    plt.grid()\n",
    "    plt.legend(loc='right')\n",
    "    plt.show()\n",
    "    plt.close()\n",
    "\n",
    "interact(\n",
    "    plot_graph,\n",
    "    f = fixed(f),\n",
    "    A0 = (0,20,0.1),\n",
    "    B0 = (0,20,0.1),\n",
    "    k1 = (0,10,0.5),\n",
    "    k2 = (0,10,0.5)\n",
    ")"
   ]
  },
  {
   "cell_type": "markdown",
   "id": "1fa293bb",
   "metadata": {},
   "source": [
    "-----\n",
    "### Q3)"
   ]
  },
  {
   "cell_type": "markdown",
   "id": "f220dcab",
   "metadata": {},
   "source": []
  },
  {
   "cell_type": "markdown",
   "id": "0878ea67",
   "metadata": {},
   "source": []
  }
 ],
 "metadata": {
  "kernelspec": {
   "display_name": "Python 3 (ipykernel)",
   "language": "python",
   "name": "python3"
  },
  "language_info": {
   "codemirror_mode": {
    "name": "ipython",
    "version": 3
   },
   "file_extension": ".py",
   "mimetype": "text/x-python",
   "name": "python",
   "nbconvert_exporter": "python",
   "pygments_lexer": "ipython3",
   "version": "3.9.13"
  }
 },
 "nbformat": 4,
 "nbformat_minor": 5
}
