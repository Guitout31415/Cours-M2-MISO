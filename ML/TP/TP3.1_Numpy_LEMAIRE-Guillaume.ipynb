{
 "cells": [
  {
   "cell_type": "code",
   "execution_count": 1,
   "id": "6d795102",
   "metadata": {},
   "outputs": [],
   "source": [
    "import numpy as np"
   ]
  },
  {
   "cell_type": "markdown",
   "id": "ed348294",
   "metadata": {},
   "source": [
    "# I) Creation"
   ]
  },
  {
   "cell_type": "code",
   "execution_count": 51,
   "id": "2e9591b7",
   "metadata": {},
   "outputs": [
    {
     "data": {
      "text/plain": [
       "array([[11, 10,  9,  8],\n",
       "       [ 7,  6,  5,  4],\n",
       "       [ 3,  2,  1,  0]])"
      ]
     },
     "execution_count": 51,
     "metadata": {},
     "output_type": "execute_result"
    }
   ],
   "source": [
    "# VECTEUR /!\\ str > float > int > bool (comme R)\n",
    "np.arange(6) # [[0,1,2,3,4,5]]\n",
    "np.arange(2, 9, 2) # [[2, 4, 6, 8]]\n",
    "np.linspace(0, 1, 5) # [[0., 0.2, 0.4, 0.6, 0.8, 1.]]\n",
    "np.array([-2, 9, 3.1, 1/3]) # [[[-2., 9., 3.1, 0.333]]]\n",
    "np.zeros(3) # [[0, 0, 0]]\n",
    "np.ones(4) # [[1, 1, 1, 1]]\n",
    "np.flip(np.arange(6)) # [[5,4,3,2,1,0]]\n",
    "\n",
    "# MATRICE /!\\ str > float > int > bool (comme R)\n",
    "a = np.array([[0, 1, 2, 3],\n",
    "              [4, 5, 6, 7],\n",
    "              [8, 9, 10, 11]])\n",
    "np.eye(4) # = Id(4)\n",
    "np.ones(18).reshape(3,6) # Matrice 1 3x6\n",
    "a.T # Transposée\n",
    "a.reshape(2,6) # Redimensionnement\n",
    "np.flip(np.arange(6)) # [[5,4,3,2,1,0]]\n",
    "np.flip(a) # option axis possible"
   ]
  },
  {
   "cell_type": "markdown",
   "id": "9ec8a778",
   "metadata": {},
   "source": [
    "# II) Operations"
   ]
  },
  {
   "cell_type": "code",
   "execution_count": 43,
   "id": "2b69b526",
   "metadata": {},
   "outputs": [
    {
     "data": {
      "text/plain": [
       "array([3, 6, 9])"
      ]
     },
     "execution_count": 43,
     "metadata": {},
     "output_type": "execute_result"
    }
   ],
   "source": [
    "np.array([1,2,3]) + np.array([2,7,1]) # =[[3,9,4]]\n",
    "np.array([1,2,3]) * np.array([2,7,1]) # =[[2,14,3]]\n",
    "np.array([1,2,3]) / np.array([2,7,1]) # =[[0.5,0.28,3]]\n",
    "np.array([1,2,3]) * 3 # = [[3,6,9]]\n",
    "np.max() # option axis possible\n",
    "np.min() # option axis possible\n",
    "np.sum() # option axis possible"
   ]
  },
  {
   "cell_type": "markdown",
   "id": "34286b21",
   "metadata": {},
   "source": [
    "# III) Selection"
   ]
  },
  {
   "cell_type": "code",
   "execution_count": 50,
   "id": "e127764a",
   "metadata": {},
   "outputs": [],
   "source": [
    "a = np.array([[0, 1, 2, 3],\n",
    "              [4, 5, 6, 7],\n",
    "              [8, 9, 10, 11]])\n",
    "a[0,3] # = 3\n",
    "a[:,2] # [[2,6,10]]\n",
    "a[a<5] # [[0,1,2,3,4]]\n",
    "a[(a>=5) & (a%3==0)] # [[6,9]]\n",
    "(a>8) | (a%2==1) #Matrice de True et False\n",
    "np.unique(np.eye(3)) # [[0,1]]\n",
    "np.unique(np.eye(3), return_counts=True) # ([[0,1]], [[6,3]])\n",
    "a[0,0] = -12 # 0 devient -12"
   ]
  },
  {
   "cell_type": "code",
   "execution_count": null,
   "id": "60a745f7",
   "metadata": {},
   "outputs": [],
   "source": []
  }
 ],
 "metadata": {
  "kernelspec": {
   "display_name": "Python 3 (ipykernel)",
   "language": "python",
   "name": "python3"
  },
  "language_info": {
   "codemirror_mode": {
    "name": "ipython",
    "version": 3
   },
   "file_extension": ".py",
   "mimetype": "text/x-python",
   "name": "python",
   "nbconvert_exporter": "python",
   "pygments_lexer": "ipython3",
   "version": "3.9.12"
  }
 },
 "nbformat": 4,
 "nbformat_minor": 5
}
