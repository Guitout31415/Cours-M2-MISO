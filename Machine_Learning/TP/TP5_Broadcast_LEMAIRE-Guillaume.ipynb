{
 "cells": [
  {
   "cell_type": "code",
   "execution_count": 1,
   "metadata": {},
   "outputs": [],
   "source": [
    "import numpy as np"
   ]
  },
  {
   "cell_type": "markdown",
   "metadata": {},
   "source": [
    "# Pré-requis"
   ]
  },
  {
   "cell_type": "markdown",
   "metadata": {},
   "source": [
    "Regardez les sources suivantes:  \n",
    "\n",
    "- la documentation de numpy sur le broadcast https://numpy.org/doc/stable/user/basics.broadcasting.html ;\n",
    "- le chapitre de Vanderplas sur le même sujet https://jakevdp.github.io/PythonDataScienceHandbook/02.05-computation-on-arrays-broadcasting.html\n"
   ]
  },
  {
   "cell_type": "markdown",
   "metadata": {},
   "source": [
    "# Jouer avec des points"
   ]
  },
  {
   "cell_type": "markdown",
   "metadata": {},
   "source": [
    "On considère $Y$ les points sur la droite aux valeurs  1, 3, 7, 2 (c'est juste un vecteur)."
   ]
  },
  {
   "cell_type": "code",
   "execution_count": 2,
   "metadata": {},
   "outputs": [],
   "source": [
    "Y = np.array([1, 3, 7, 2])"
   ]
  },
  {
   "cell_type": "markdown",
   "metadata": {},
   "source": [
    "On va calculer toute les différences entre ces valeurs. On construit un matrice `M` telle que `M[i,j] = Y[i] - Y[j]` et `i` et `j` sont deux indices pour tous les identifiants de points possibles. Pour cela, on peut utiliser le broadcasting... \n",
    "\n",
    "On constuit `Y - Y.T`, mais il faut transformer le vecteurs 1d `Y` en matrices `a` et `b` de taille (4, 1) et (1, 4)"
   ]
  },
  {
   "cell_type": "code",
   "execution_count": 3,
   "metadata": {},
   "outputs": [
    {
     "data": {
      "text/plain": [
       "array([[ 0, -2, -6, -1],\n",
       "       [ 2,  0, -4,  1],\n",
       "       [ 6,  4,  0,  5],\n",
       "       [ 1, -1, -5,  0]])"
      ]
     },
     "execution_count": 3,
     "metadata": {},
     "output_type": "execute_result"
    }
   ],
   "source": [
    "a, b = Y.reshape(4, 1), Y.reshape(1, 4)\n",
    "a-b"
   ]
  },
  {
   "cell_type": "markdown",
   "metadata": {},
   "source": [
    "Une autre façon de procéder est d'ajouter un axe avec `np.newaxis`. Observer `Y[:, np.newaxis]`. En déduire comment construire `a` et `b` autrement."
   ]
  },
  {
   "cell_type": "code",
   "execution_count": 4,
   "metadata": {},
   "outputs": [
    {
     "data": {
      "text/plain": [
       "array([[ 0, -2, -6, -1],\n",
       "       [ 2,  0, -4,  1],\n",
       "       [ 6,  4,  0,  5],\n",
       "       [ 1, -1, -5,  0]])"
      ]
     },
     "execution_count": 4,
     "metadata": {},
     "output_type": "execute_result"
    }
   ],
   "source": [
    "a, b = Y[:, np.newaxis], Y\n",
    "a-b"
   ]
  },
  {
   "cell_type": "markdown",
   "metadata": {},
   "source": [
    "On peut calculer les distances au carré de chaque point vers chaque autre point."
   ]
  },
  {
   "cell_type": "code",
   "execution_count": 5,
   "metadata": {},
   "outputs": [
    {
     "data": {
      "text/plain": [
       "array([[ 0,  4, 36,  1],\n",
       "       [ 4,  0, 16,  1],\n",
       "       [36, 16,  0, 25],\n",
       "       [ 1,  1, 25,  0]], dtype=int32)"
      ]
     },
     "execution_count": 5,
     "metadata": {},
     "output_type": "execute_result"
    }
   ],
   "source": [
    "(a-b)**2"
   ]
  },
  {
   "cell_type": "markdown",
   "metadata": {},
   "source": [
    "Quel est le point le plus proche de chaque point ? Regardez la documentation de `np.argsort`. Voyez par exemple \n",
    "\n",
    "    np.argsort(np.array([1, 0, 12, 2]))\n",
    "    \n",
    "Appliquez cela sur la matrice des distance en prenant le bon axe!"
   ]
  },
  {
   "cell_type": "code",
   "execution_count": 6,
   "metadata": {},
   "outputs": [
    {
     "data": {
      "text/plain": [
       "array([[0, 3, 1, 2],\n",
       "       [1, 3, 0, 2],\n",
       "       [2, 1, 3, 0],\n",
       "       [3, 0, 1, 2]], dtype=int64)"
      ]
     },
     "execution_count": 6,
     "metadata": {},
     "output_type": "execute_result"
    }
   ],
   "source": [
    "np.argsort((a-b)**2)"
   ]
  },
  {
   "cell_type": "markdown",
   "metadata": {},
   "source": [
    "On recommence avec maintenant des points en dimension 2. On va alors calculer toutes les distances au carré entre ces points.  "
   ]
  },
  {
   "cell_type": "markdown",
   "metadata": {},
   "source": [
    "Tirer aléatoirement $X$, un jeu de données de 10 points dans $[0, 1]^2$. On utilise `np.random.rand`."
   ]
  },
  {
   "cell_type": "code",
   "execution_count": 7,
   "metadata": {},
   "outputs": [
    {
     "data": {
      "text/plain": [
       "array([[0.294665  , 0.53058676],\n",
       "       [0.19152079, 0.06790036],\n",
       "       [0.78698546, 0.65633352],\n",
       "       [0.6375209 , 0.57560289],\n",
       "       [0.03906292, 0.3578136 ],\n",
       "       [0.94568319, 0.06004468],\n",
       "       [0.8640421 , 0.87729053],\n",
       "       [0.05119367, 0.65241862],\n",
       "       [0.55175137, 0.59751325],\n",
       "       [0.48352862, 0.28298816]])"
      ]
     },
     "execution_count": 7,
     "metadata": {},
     "output_type": "execute_result"
    }
   ],
   "source": [
    "np.random.seed(17)\n",
    "X = np.random.rand(10,2)\n",
    "X"
   ]
  },
  {
   "cell_type": "markdown",
   "metadata": {},
   "source": [
    "On peut les tracer sur un petit diagramme."
   ]
  },
  {
   "cell_type": "code",
   "execution_count": 8,
   "metadata": {
    "scrolled": true
   },
   "outputs": [
    {
     "data": {
      "text/plain": [
       "<matplotlib.collections.PathCollection at 0x1d350d735e0>"
      ]
     },
     "execution_count": 8,
     "metadata": {},
     "output_type": "execute_result"
    },
    {
     "data": {
      "image/png": "[encoded data removed]",
      "text/plain": [
       "<Figure size 432x288 with 1 Axes>"
      ]
     },
     "metadata": {
      "needs_background": "light"
     },
     "output_type": "display_data"
    }
   ],
   "source": [
    "import matplotlib.pyplot as plt\n",
    "plt.scatter(X[:,0], X[:,1])"
   ]
  },
  {
   "cell_type": "markdown",
   "metadata": {},
   "source": [
    "Dans `X` la première dimension représente le numéro du point et la deuxième dimension les coordonnées de ce point ($x_1$, $x_2$). \n",
    "\n",
    "Maintenant on calcule les `a` et `b` comme tout à l'heure. On ajoute une dimension pour créer un objet en 3 dimensions ($n1=10$, $n2=10$, $x$) à partir de $X$ qui était en dimensions $n=10$ et $x=2$. \n",
    "\n",
    "Par la somme ou la différence, on aura dans a[i, j, k] - b[i, j, k] = X[i, k] - X[j, k] "
   ]
  },
  {
   "cell_type": "code",
   "execution_count": 9,
   "metadata": {},
   "outputs": [
    {
     "data": {
      "text/plain": [
       "array([[[ 0.        ,  0.        ],\n",
       "        [ 0.10314422,  0.4626864 ],\n",
       "        [-0.49232046, -0.12574677],\n",
       "        [-0.34285589, -0.04501614],\n",
       "        [ 0.25560209,  0.17277315],\n",
       "        [-0.65101818,  0.47054208],\n",
       "        [-0.5693771 , -0.34670377],\n",
       "        [ 0.24347134, -0.12183186],\n",
       "        [-0.25708637, -0.0669265 ],\n",
       "        [-0.18886362,  0.24759859]],\n",
       "\n",
       "       [[-0.10314422, -0.4626864 ],\n",
       "        [ 0.        ,  0.        ],\n",
       "        [-0.59546467, -0.58843316],\n",
       "        [-0.44600011, -0.50770254],\n",
       "        [ 0.15245787, -0.28991325],\n",
       "        [-0.7541624 ,  0.00785568],\n",
       "        [-0.67252132, -0.80939017],\n",
       "        [ 0.14032712, -0.58451826],\n",
       "        [-0.36023058, -0.5296129 ],\n",
       "        [-0.29200784, -0.2150878 ]],\n",
       "\n",
       "       [[ 0.49232046,  0.12574677],\n",
       "        [ 0.59546467,  0.58843316],\n",
       "        [ 0.        ,  0.        ],\n",
       "        [ 0.14946456,  0.08073063],\n",
       "        [ 0.74792254,  0.29851992],\n",
       "        [-0.15869773,  0.59628884],\n",
       "        [-0.07705664, -0.220957  ],\n",
       "        [ 0.73579179,  0.00391491],\n",
       "        [ 0.23523409,  0.05882027],\n",
       "        [ 0.30345684,  0.37334536]],\n",
       "\n",
       "       [[ 0.34285589,  0.04501614],\n",
       "        [ 0.44600011,  0.50770254],\n",
       "        [-0.14946456, -0.08073063],\n",
       "        [ 0.        ,  0.        ],\n",
       "        [ 0.59845798,  0.21778929],\n",
       "        [-0.30816229,  0.51555821],\n",
       "        [-0.22652121, -0.30168763],\n",
       "        [ 0.58632723, -0.07681572],\n",
       "        [ 0.08576953, -0.02191036],\n",
       "        [ 0.15399227,  0.29261473]],\n",
       "\n",
       "       [[-0.25560209, -0.17277315],\n",
       "        [-0.15245787,  0.28991325],\n",
       "        [-0.74792254, -0.29851992],\n",
       "        [-0.59845798, -0.21778929],\n",
       "        [ 0.        ,  0.        ],\n",
       "        [-0.90662027,  0.29776892],\n",
       "        [-0.82497919, -0.51947692],\n",
       "        [-0.01213075, -0.29460501],\n",
       "        [-0.51268845, -0.23969965],\n",
       "        [-0.44446571,  0.07482544]],\n",
       "\n",
       "       [[ 0.65101818, -0.47054208],\n",
       "        [ 0.7541624 , -0.00785568],\n",
       "        [ 0.15869773, -0.59628884],\n",
       "        [ 0.30816229, -0.51555821],\n",
       "        [ 0.90662027, -0.29776892],\n",
       "        [ 0.        ,  0.        ],\n",
       "        [ 0.08164108, -0.81724585],\n",
       "        [ 0.89448952, -0.59237394],\n",
       "        [ 0.39393182, -0.53746857],\n",
       "        [ 0.46215456, -0.22294348]],\n",
       "\n",
       "       [[ 0.5693771 ,  0.34670377],\n",
       "        [ 0.67252132,  0.80939017],\n",
       "        [ 0.07705664,  0.220957  ],\n",
       "        [ 0.22652121,  0.30168763],\n",
       "        [ 0.82497919,  0.51947692],\n",
       "        [-0.08164108,  0.81724585],\n",
       "        [ 0.        ,  0.        ],\n",
       "        [ 0.81284844,  0.22487191],\n",
       "        [ 0.31229073,  0.27977727],\n",
       "        [ 0.38051348,  0.59430237]],\n",
       "\n",
       "       [[-0.24347134,  0.12183186],\n",
       "        [-0.14032712,  0.58451826],\n",
       "        [-0.73579179, -0.00391491],\n",
       "        [-0.58632723,  0.07681572],\n",
       "        [ 0.01213075,  0.29460501],\n",
       "        [-0.89448952,  0.59237394],\n",
       "        [-0.81284844, -0.22487191],\n",
       "        [ 0.        ,  0.        ],\n",
       "        [-0.5005577 ,  0.05490536],\n",
       "        [-0.43233496,  0.36943045]],\n",
       "\n",
       "       [[ 0.25708637,  0.0669265 ],\n",
       "        [ 0.36023058,  0.5296129 ],\n",
       "        [-0.23523409, -0.05882027],\n",
       "        [-0.08576953,  0.02191036],\n",
       "        [ 0.51268845,  0.23969965],\n",
       "        [-0.39393182,  0.53746857],\n",
       "        [-0.31229073, -0.27977727],\n",
       "        [ 0.5005577 , -0.05490536],\n",
       "        [ 0.        ,  0.        ],\n",
       "        [ 0.06822274,  0.31452509]],\n",
       "\n",
       "       [[ 0.18886362, -0.24759859],\n",
       "        [ 0.29200784,  0.2150878 ],\n",
       "        [-0.30345684, -0.37334536],\n",
       "        [-0.15399227, -0.29261473],\n",
       "        [ 0.44446571, -0.07482544],\n",
       "        [-0.46215456,  0.22294348],\n",
       "        [-0.38051348, -0.59430237],\n",
       "        [ 0.43233496, -0.36943045],\n",
       "        [-0.06822274, -0.31452509],\n",
       "        [ 0.        ,  0.        ]]])"
      ]
     },
     "execution_count": 9,
     "metadata": {},
     "output_type": "execute_result"
    }
   ],
   "source": [
    "a, b = X[:,np.newaxis,:], X[np.newaxis,:,:]\n",
    "c = a-b\n",
    "c"
   ]
  },
  {
   "cell_type": "markdown",
   "metadata": {},
   "source": [
    "On peut calculer la différence au carré pour chaque coordonnée. "
   ]
  },
  {
   "cell_type": "code",
   "execution_count": 10,
   "metadata": {},
   "outputs": [
    {
     "data": {
      "text/plain": [
       "array([[[0.00000000e+00, 0.00000000e+00],\n",
       "        [1.06387292e-02, 2.14078702e-01],\n",
       "        [2.42379433e-01, 1.58122492e-02],\n",
       "        [1.17550164e-01, 2.02645269e-03],\n",
       "        [6.53324266e-02, 2.98505617e-02],\n",
       "        [4.23824676e-01, 2.21409845e-01],\n",
       "        [3.24190283e-01, 1.20203505e-01],\n",
       "        [5.92782920e-02, 1.48430021e-02],\n",
       "        [6.60933996e-02, 4.47915609e-03],\n",
       "        [3.56694676e-02, 6.13050641e-02]],\n",
       "\n",
       "       [[1.06387292e-02, 2.14078702e-01],\n",
       "        [0.00000000e+00, 0.00000000e+00],\n",
       "        [3.54578177e-01, 3.46253588e-01],\n",
       "        [1.98916097e-01, 2.57761865e-01],\n",
       "        [2.32434024e-02, 8.40496904e-02],\n",
       "        [5.68760925e-01, 6.17116749e-05],\n",
       "        [4.52284921e-01, 6.55112444e-01],\n",
       "        [1.96917010e-02, 3.41661593e-01],\n",
       "        [1.29766072e-01, 2.80489819e-01],\n",
       "        [8.52685771e-02, 4.62627629e-02]],\n",
       "\n",
       "       [[2.42379433e-01, 1.58122492e-02],\n",
       "        [3.54578177e-01, 3.46253588e-01],\n",
       "        [0.00000000e+00, 0.00000000e+00],\n",
       "        [2.23396559e-02, 6.51743430e-03],\n",
       "        [5.59388132e-01, 8.91141410e-02],\n",
       "        [2.51849685e-02, 3.55560382e-01],\n",
       "        [5.93772631e-03, 4.88219978e-02],\n",
       "        [5.41389565e-01, 1.53264914e-05],\n",
       "        [5.53350777e-02, 3.45982399e-03],\n",
       "        [9.20860511e-02, 1.39386759e-01]],\n",
       "\n",
       "       [[1.17550164e-01, 2.02645269e-03],\n",
       "        [1.98916097e-01, 2.57761865e-01],\n",
       "        [2.23396559e-02, 6.51743430e-03],\n",
       "        [0.00000000e+00, 0.00000000e+00],\n",
       "        [3.58151954e-01, 4.74321745e-02],\n",
       "        [9.49639975e-02, 2.65800271e-01],\n",
       "        [5.13118574e-02, 9.10154275e-02],\n",
       "        [3.43779621e-01, 5.90065510e-03],\n",
       "        [7.35641183e-03, 4.80063853e-04],\n",
       "        [2.37136198e-02, 8.56233819e-02]],\n",
       "\n",
       "       [[6.53324266e-02, 2.98505617e-02],\n",
       "        [2.32434024e-02, 8.40496904e-02],\n",
       "        [5.59388132e-01, 8.91141410e-02],\n",
       "        [3.58151954e-01, 4.74321745e-02],\n",
       "        [0.00000000e+00, 0.00000000e+00],\n",
       "        [8.21960315e-01, 8.86663322e-02],\n",
       "        [6.80590660e-01, 2.69856272e-01],\n",
       "        [1.47155082e-04, 8.67921125e-02],\n",
       "        [2.62849449e-01, 5.74559216e-02],\n",
       "        [1.97549766e-01, 5.59884701e-03]],\n",
       "\n",
       "       [[4.23824676e-01, 2.21409845e-01],\n",
       "        [5.68760925e-01, 6.17116749e-05],\n",
       "        [2.51849685e-02, 3.55560382e-01],\n",
       "        [9.49639975e-02, 2.65800271e-01],\n",
       "        [8.21960315e-01, 8.86663322e-02],\n",
       "        [0.00000000e+00, 0.00000000e+00],\n",
       "        [6.66526648e-03, 6.67890773e-01],\n",
       "        [8.00111504e-01, 3.50906879e-01],\n",
       "        [1.55182277e-01, 2.88872467e-01],\n",
       "        [2.13586840e-01, 4.97037955e-02]],\n",
       "\n",
       "       [[3.24190283e-01, 1.20203505e-01],\n",
       "        [4.52284921e-01, 6.55112444e-01],\n",
       "        [5.93772631e-03, 4.88219978e-02],\n",
       "        [5.13118574e-02, 9.10154275e-02],\n",
       "        [6.80590660e-01, 2.69856272e-01],\n",
       "        [6.66526648e-03, 6.67890773e-01],\n",
       "        [0.00000000e+00, 0.00000000e+00],\n",
       "        [6.60722583e-01, 5.05673762e-02],\n",
       "        [9.75255031e-02, 7.82753224e-02],\n",
       "        [1.44790508e-01, 3.53195301e-01]],\n",
       "\n",
       "       [[5.92782920e-02, 1.48430021e-02],\n",
       "        [1.96917010e-02, 3.41661593e-01],\n",
       "        [5.41389565e-01, 1.53264914e-05],\n",
       "        [3.43779621e-01, 5.90065510e-03],\n",
       "        [1.47155082e-04, 8.67921125e-02],\n",
       "        [8.00111504e-01, 3.50906879e-01],\n",
       "        [6.60722583e-01, 5.05673762e-02],\n",
       "        [0.00000000e+00, 0.00000000e+00],\n",
       "        [2.50558014e-01, 3.01459880e-03],\n",
       "        [1.86913517e-01, 1.36478861e-01]],\n",
       "\n",
       "       [[6.60933996e-02, 4.47915609e-03],\n",
       "        [1.29766072e-01, 2.80489819e-01],\n",
       "        [5.53350777e-02, 3.45982399e-03],\n",
       "        [7.35641183e-03, 4.80063853e-04],\n",
       "        [2.62849449e-01, 5.74559216e-02],\n",
       "        [1.55182277e-01, 2.88872467e-01],\n",
       "        [9.75255031e-02, 7.82753224e-02],\n",
       "        [2.50558014e-01, 3.01459880e-03],\n",
       "        [0.00000000e+00, 0.00000000e+00],\n",
       "        [4.65434284e-03, 9.89260337e-02]],\n",
       "\n",
       "       [[3.56694676e-02, 6.13050641e-02],\n",
       "        [8.52685771e-02, 4.62627629e-02],\n",
       "        [9.20860511e-02, 1.39386759e-01],\n",
       "        [2.37136198e-02, 8.56233819e-02],\n",
       "        [1.97549766e-01, 5.59884701e-03],\n",
       "        [2.13586840e-01, 4.97037955e-02],\n",
       "        [1.44790508e-01, 3.53195301e-01],\n",
       "        [1.86913517e-01, 1.36478861e-01],\n",
       "        [4.65434284e-03, 9.89260337e-02],\n",
       "        [0.00000000e+00, 0.00000000e+00]]])"
      ]
     },
     "execution_count": 10,
     "metadata": {},
     "output_type": "execute_result"
    }
   ],
   "source": [
    "c = c**2\n",
    "c"
   ]
  },
  {
   "cell_type": "markdown",
   "metadata": {},
   "source": [
    "La distance au carré est la somme pour toutes ces coordonnées. Donc la somme sur la troisième composante. "
   ]
  },
  {
   "cell_type": "code",
   "execution_count": 11,
   "metadata": {},
   "outputs": [
    {
     "data": {
      "text/plain": [
       "array([[0.        , 0.22471743, 0.25819168, 0.11957662, 0.09518299,\n",
       "        0.64523452, 0.44439379, 0.07412129, 0.07057256, 0.09697453],\n",
       "       [0.22471743, 0.        , 0.70083176, 0.45667796, 0.10729309,\n",
       "        0.56882264, 1.10739737, 0.36135329, 0.41025589, 0.13153134],\n",
       "       [0.25819168, 0.70083176, 0.        , 0.02885709, 0.64850227,\n",
       "        0.38074535, 0.05475972, 0.54140489, 0.0587949 , 0.23147281],\n",
       "       [0.11957662, 0.45667796, 0.02885709, 0.        , 0.40558413,\n",
       "        0.36076427, 0.14232728, 0.34968028, 0.00783648, 0.109337  ],\n",
       "       [0.09518299, 0.10729309, 0.64850227, 0.40558413, 0.        ,\n",
       "        0.91062665, 0.95044693, 0.08693927, 0.32030537, 0.20314861],\n",
       "       [0.64523452, 0.56882264, 0.38074535, 0.36076427, 0.91062665,\n",
       "        0.        , 0.67455604, 1.15101838, 0.44405474, 0.26329064],\n",
       "       [0.44439379, 1.10739737, 0.05475972, 0.14232728, 0.95044693,\n",
       "        0.67455604, 0.        , 0.71128996, 0.17580083, 0.49798581],\n",
       "       [0.07412129, 0.36135329, 0.54140489, 0.34968028, 0.08693927,\n",
       "        1.15101838, 0.71128996, 0.        , 0.25357261, 0.32339238],\n",
       "       [0.07057256, 0.41025589, 0.0587949 , 0.00783648, 0.32030537,\n",
       "        0.44405474, 0.17580083, 0.25357261, 0.        , 0.10358038],\n",
       "       [0.09697453, 0.13153134, 0.23147281, 0.109337  , 0.20314861,\n",
       "        0.26329064, 0.49798581, 0.32339238, 0.10358038, 0.        ]])"
      ]
     },
     "execution_count": 11,
     "metadata": {},
     "output_type": "execute_result"
    }
   ],
   "source": [
    "dist = np.sum(c, axis=2)\n",
    "dist"
   ]
  },
  {
   "cell_type": "markdown",
   "metadata": {},
   "source": [
    "Quels 2 points les plus proches du point 0 ?  On peut utiliser `np.argsort` sur les distances au premier point... "
   ]
  },
  {
   "cell_type": "code",
   "execution_count": 12,
   "metadata": {},
   "outputs": [
    {
     "data": {
      "text/plain": [
       "array([[0, 8, 7, 4, 9, 3, 1, 2, 6, 5],\n",
       "       [1, 4, 9, 0, 7, 8, 3, 5, 2, 6],\n",
       "       [2, 3, 6, 8, 9, 0, 5, 7, 4, 1],\n",
       "       [3, 8, 2, 9, 0, 6, 7, 5, 4, 1],\n",
       "       [4, 7, 0, 1, 9, 8, 3, 2, 5, 6],\n",
       "       [5, 9, 3, 2, 8, 1, 0, 6, 4, 7],\n",
       "       [6, 2, 3, 8, 0, 9, 5, 7, 4, 1],\n",
       "       [7, 0, 4, 8, 9, 3, 1, 2, 6, 5],\n",
       "       [8, 3, 2, 0, 9, 6, 7, 4, 1, 5],\n",
       "       [9, 0, 8, 3, 1, 4, 2, 5, 7, 6]], dtype=int64)"
      ]
     },
     "execution_count": 12,
     "metadata": {},
     "output_type": "execute_result"
    }
   ],
   "source": [
    "np.argsort(dist)"
   ]
  },
  {
   "cell_type": "code",
   "execution_count": 13,
   "metadata": {},
   "outputs": [
    {
     "name": "stdout",
     "output_type": "stream",
     "text": [
      "[0.55175137 0.59751325] est le point le plus proche de [0.294665   0.53058676] (dist = 0.071)\n",
      "[0.03906292 0.3578136 ] est le point le plus proche de [0.19152079 0.06790036] (dist = 0.107)\n",
      "[0.6375209  0.57560289] est le point le plus proche de [0.78698546 0.65633352] (dist = 0.029)\n",
      "[0.55175137 0.59751325] est le point le plus proche de [0.6375209  0.57560289] (dist = 0.008)\n",
      "[0.05119367 0.65241862] est le point le plus proche de [0.03906292 0.3578136 ] (dist = 0.087)\n",
      "[0.48352862 0.28298816] est le point le plus proche de [0.94568319 0.06004468] (dist = 0.263)\n",
      "[0.78698546 0.65633352] est le point le plus proche de [0.8640421  0.87729053] (dist = 0.055)\n",
      "[0.294665   0.53058676] est le point le plus proche de [0.05119367 0.65241862] (dist = 0.074)\n",
      "[0.6375209  0.57560289] est le point le plus proche de [0.55175137 0.59751325] (dist = 0.008)\n",
      "[0.294665   0.53058676] est le point le plus proche de [0.48352862 0.28298816] (dist = 0.097)\n"
     ]
    }
   ],
   "source": [
    "i = 0\n",
    "for n in np.argsort(dist)[:, 1]:\n",
    "    print(f\"{X[n,:]} est le point le plus proche de {X[i,:]} (dist = {round(dist[i,n], 3)})\")\n",
    "    i += 1"
   ]
  },
  {
   "cell_type": "markdown",
   "metadata": {},
   "source": [
    "# Autres méthodes"
   ]
  },
  {
   "cell_type": "code",
   "execution_count": 14,
   "metadata": {},
   "outputs": [
    {
     "data": {
      "text/plain": [
       "True"
      ]
     },
     "execution_count": 14,
     "metadata": {},
     "output_type": "execute_result"
    }
   ],
   "source": [
    "X = X.reshape(2, 10)\n",
    "a2 = X[:,:,np.newaxis]\n",
    "b2 = X[:,np.newaxis,:]\n",
    "c2 = (a-b)**2\n",
    "dist2 = np.sum(c2, axis=2)\n",
    "np.linalg.norm(dist2-dist) < 1e-10"
   ]
  },
  {
   "cell_type": "code",
   "execution_count": null,
   "metadata": {},
   "outputs": [],
   "source": []
  }
 ],
 "metadata": {
  "kernelspec": {
   "display_name": "Python 3 (ipykernel)",
   "language": "python",
   "name": "python3"
  },
  "language_info": {
   "codemirror_mode": {
    "name": "ipython",
    "version": 3
   },
   "file_extension": ".py",
   "mimetype": "text/x-python",
   "name": "python",
   "nbconvert_exporter": "python",
   "pygments_lexer": "ipython3",
   "version": "3.9.12"
  }
 },
 "nbformat": 4,
 "nbformat_minor": 2
}
