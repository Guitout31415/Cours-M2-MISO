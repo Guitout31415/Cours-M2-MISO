{
 "cells": [
  {
   "cell_type": "markdown",
   "metadata": {},
   "source": [
    "# Notebooks et Ipython"
   ]
  },
  {
   "cell_type": "markdown",
   "metadata": {},
   "source": [
    "## Généralités"
   ]
  },
  {
   "cell_type": "markdown",
   "metadata": {},
   "source": [
    "- La couleur verte indique qu'on édite une cellule, la bleue qu'on édite le notebook\n",
    "- Raccourcis dispos pour insérer des cellules etc (voir l'icône de clavier)\n",
    "- Les cellules peuvent contenir des textes en markdown (m) ou du code (y). \n",
    "- Les cellules de code s'exécutent dans n'importe quel ordre. Les résultats sont globaux au Notebook. L'ordre d'exécution est visible à côté de la cellule.\n",
    "- On exécute une cellule avec \n",
    "  - S-Entrée exécute et passe à la cellule suivante\n",
    "  - C-Entrée exécute et reste sur la même cellule\n",
    "  - Alt-Entrée exécute et insèce une nouvelle cellule\n",
    "- Le résultat de la cellule est le résultat de la dernière ligne\n",
    "- Vous pouvez tout recommencer en redémarrant le noyau (Menu Noyau)\n",
    "- Si vous reprenez plus tard un notebook partiellement exécuté, il faut relancer les cellules déjà exécutées pour continuer (l'état est sauvegardé sans la mémoire)."
   ]
  },
  {
   "cell_type": "code",
   "execution_count": 1,
   "metadata": {},
   "outputs": [
    {
     "data": {
      "text/plain": [
       "1"
      ]
     },
     "execution_count": 1,
     "metadata": {},
     "output_type": "execute_result"
    }
   ],
   "source": [
    "1"
   ]
  },
  {
   "cell_type": "code",
   "execution_count": 2,
   "metadata": {},
   "outputs": [
    {
     "data": {
      "text/plain": [
       "2"
      ]
     },
     "execution_count": 2,
     "metadata": {},
     "output_type": "execute_result"
    }
   ],
   "source": [
    "1\n",
    "2  # uniquement la sortie 2"
   ]
  },
  {
   "cell_type": "code",
   "execution_count": 3,
   "metadata": {},
   "outputs": [],
   "source": [
    "def f(): pass # pas de sortie"
   ]
  },
  {
   "cell_type": "code",
   "execution_count": 4,
   "metadata": {},
   "outputs": [
    {
     "name": "stdout",
     "output_type": "stream",
     "text": [
      "1\n",
      "2\n"
     ]
    }
   ],
   "source": [
    "print(1)\n",
    "print(2) # pas de sortie"
   ]
  },
  {
   "cell_type": "code",
   "execution_count": 5,
   "metadata": {},
   "outputs": [],
   "source": [
    "s = \"Allo la terre ?\" # pas de sortie"
   ]
  },
  {
   "cell_type": "markdown",
   "metadata": {},
   "source": [
    "`<tab>` permet la complétion, et `?` donne de l'aide"
   ]
  },
  {
   "cell_type": "code",
   "execution_count": 6,
   "metadata": {},
   "outputs": [
    {
     "ename": "SyntaxError",
     "evalue": "invalid syntax (3576416499.py, line 2)",
     "output_type": "error",
     "traceback": [
      "\u001b[1;36m  Input \u001b[1;32mIn [6]\u001b[1;36m\u001b[0m\n\u001b[1;33m    s.\u001b[0m\n\u001b[1;37m      ^\u001b[0m\n\u001b[1;31mSyntaxError\u001b[0m\u001b[1;31m:\u001b[0m invalid syntax\n"
     ]
    }
   ],
   "source": [
    "# appuyer sur <tab> (2 fois) après le .\n",
    "s."
   ]
  },
  {
   "cell_type": "code",
   "execution_count": 7,
   "metadata": {},
   "outputs": [
    {
     "data": {
      "text/plain": [
       "<function str.split(sep=None, maxsplit=-1)>"
      ]
     },
     "execution_count": 7,
     "metadata": {},
     "output_type": "execute_result"
    }
   ],
   "source": [
    "# Appuyer sur S-TAB àal fin de chaque ligne\n",
    "s\n",
    "range\n",
    "s.split"
   ]
  },
  {
   "cell_type": "code",
   "execution_count": 8,
   "metadata": {},
   "outputs": [],
   "source": [
    "range?"
   ]
  },
  {
   "cell_type": "markdown",
   "metadata": {},
   "source": [
    "## Ipython et scripts"
   ]
  },
  {
   "cell_type": "markdown",
   "metadata": {},
   "source": [
    "On peut inclure des scripts python dans un notebook. C'est la démarche classique pour le développement : scripts pour les algorithmes un peu complexes, utilisation d'un notebook pour utiliser et expérimenter, présenter. "
   ]
  },
  {
   "cell_type": "code",
   "execution_count": 9,
   "metadata": {},
   "outputs": [
    {
     "ename": "ModuleNotFoundError",
     "evalue": "No module named 'algos'",
     "output_type": "error",
     "traceback": [
      "\u001b[1;31m---------------------------------------------------------------------------\u001b[0m",
      "\u001b[1;31mModuleNotFoundError\u001b[0m                       Traceback (most recent call last)",
      "Input \u001b[1;32mIn [9]\u001b[0m, in \u001b[0;36m<cell line: 1>\u001b[1;34m()\u001b[0m\n\u001b[1;32m----> 1\u001b[0m \u001b[38;5;28;01mimport\u001b[39;00m \u001b[38;5;21;01malgos\u001b[39;00m\n",
      "\u001b[1;31mModuleNotFoundError\u001b[0m: No module named 'algos'"
     ]
    }
   ],
   "source": [
    "import algos"
   ]
  },
  {
   "cell_type": "code",
   "execution_count": null,
   "metadata": {},
   "outputs": [],
   "source": [
    "algos.run()"
   ]
  },
  {
   "cell_type": "code",
   "execution_count": null,
   "metadata": {},
   "outputs": [],
   "source": [
    "algos.run?"
   ]
  },
  {
   "cell_type": "code",
   "execution_count": null,
   "metadata": {},
   "outputs": [],
   "source": [
    "algos.run??"
   ]
  },
  {
   "cell_type": "markdown",
   "metadata": {},
   "source": [
    "## Magics!"
   ]
  },
  {
   "cell_type": "markdown",
   "metadata": {},
   "source": [
    "Les *magics* permettent des opérations dans ipython. Ici on recharge automatiquement les scripts chargés quand ils sont modifiés. Voir [la doc](https://ipython.org/ipython-doc/3/config/extensions/autoreload.html), et essayer en modifiant algos.py"
   ]
  },
  {
   "cell_type": "code",
   "execution_count": null,
   "metadata": {},
   "outputs": [],
   "source": [
    "algos.run()"
   ]
  },
  {
   "cell_type": "code",
   "execution_count": null,
   "metadata": {},
   "outputs": [],
   "source": [
    "%load_ext autoreload\n",
    "%autoreload 2"
   ]
  },
  {
   "cell_type": "code",
   "execution_count": null,
   "metadata": {},
   "outputs": [],
   "source": [
    "algos.run()"
   ]
  },
  {
   "cell_type": "markdown",
   "metadata": {},
   "source": [
    "On peut estimer la vitesse d'exécution d'un code... ou le profiler (voir le PDSH)"
   ]
  },
  {
   "cell_type": "code",
   "execution_count": null,
   "metadata": {},
   "outputs": [],
   "source": [
    "%timeit l = list(range(100000))"
   ]
  },
  {
   "cell_type": "code",
   "execution_count": null,
   "metadata": {},
   "outputs": [],
   "source": [
    "import numpy as np\n",
    "%timeit l = np.arange(100000)"
   ]
  },
  {
   "cell_type": "markdown",
   "metadata": {},
   "source": [
    "# Listes et tableaux"
   ]
  },
  {
   "cell_type": "markdown",
   "metadata": {},
   "source": [
    "**<span style='color: red'>Activité</span>** Voir le chapitre 02.01-Understanding-Data-Types du livre de Jake VanderPlas."
   ]
  },
  {
   "cell_type": "markdown",
   "metadata": {},
   "source": [
    "## Listes Python\n",
    "\n",
    "- Les listes Python sont hétérogènes, non forcément continues en mémoire\n",
    "- le type est `list`.\n",
    "- un type est associé à une fonction de même type qui permet la conversion de type\n",
    "- la fonction `range` est un énumérateur : permet d'énumérer des entiers\n",
    "- les _list comprehensive_ sont une technique riche pour créer des listes\n",
    "- les opérateurs + et * joignent (concatènent) des listes (car les listes sont hétérogènes et pas des tables de valeurs numériques)\n",
    "\n",
    "Les listes sont écrites avec les crochets et les éléments séparés par des virgules"
   ]
  },
  {
   "cell_type": "markdown",
   "metadata": {},
   "source": [
    "**Question** : Faire une liste nommée `l` contenant un entier, une chaîne de caractères, un nombre décimal. Afficher le type de `l`."
   ]
  },
  {
   "cell_type": "code",
   "execution_count": 10,
   "metadata": {},
   "outputs": [],
   "source": [
    "l = [917, 'phi', 3.14159265358]"
   ]
  },
  {
   "cell_type": "markdown",
   "metadata": {},
   "source": [
    "La fonction `range` génère un **itérateur** qui permet de parcourir un ensemble. "
   ]
  },
  {
   "cell_type": "code",
   "execution_count": 11,
   "metadata": {},
   "outputs": [
    {
     "data": {
      "text/plain": [
       "range(0, 5)"
      ]
     },
     "execution_count": 11,
     "metadata": {},
     "output_type": "execute_result"
    }
   ],
   "source": [
    "range(5)"
   ]
  },
  {
   "cell_type": "markdown",
   "metadata": {},
   "source": [
    "**Question** : avec la conversion de type par la fonction `list` et avec la fonction `range`, faire une liste des entiers de 30 à 100 par pas de 5."
   ]
  },
  {
   "cell_type": "code",
   "execution_count": 12,
   "metadata": {},
   "outputs": [
    {
     "data": {
      "text/plain": [
       "[30, 35, 40, 45, 50, 55, 60, 65, 70, 75, 80, 85, 90, 95, 100]"
      ]
     },
     "execution_count": 12,
     "metadata": {},
     "output_type": "execute_result"
    }
   ],
   "source": [
    "list(range(30, 101, 5))"
   ]
  },
  {
   "cell_type": "markdown",
   "metadata": {},
   "source": [
    "Quelques exemples de *list_comprehensive* : "
   ]
  },
  {
   "cell_type": "code",
   "execution_count": 13,
   "metadata": {},
   "outputs": [
    {
     "data": {
      "text/plain": [
       "[int, str, float]"
      ]
     },
     "execution_count": 13,
     "metadata": {},
     "output_type": "execute_result"
    }
   ],
   "source": [
    "[type(e) for e in l]"
   ]
  },
  {
   "cell_type": "code",
   "execution_count": 14,
   "metadata": {},
   "outputs": [
    {
     "data": {
      "text/plain": [
       "[[0, 4],\n",
       " [0, 8],\n",
       " [0, 12],\n",
       " [0, 16],\n",
       " [1, 5],\n",
       " [1, 9],\n",
       " [1, 13],\n",
       " [1, 17],\n",
       " [2, 6],\n",
       " [2, 10],\n",
       " [2, 14],\n",
       " [2, 18],\n",
       " [3, 7],\n",
       " [3, 11],\n",
       " [3, 15],\n",
       " [3, 19],\n",
       " [4, 8],\n",
       " [4, 12],\n",
       " [4, 16],\n",
       " [4, 20],\n",
       " [5, 9],\n",
       " [5, 13],\n",
       " [5, 17],\n",
       " [5, 21],\n",
       " [6, 10],\n",
       " [6, 14],\n",
       " [6, 18],\n",
       " [6, 22],\n",
       " [7, 11],\n",
       " [7, 15],\n",
       " [7, 19],\n",
       " [7, 23],\n",
       " [8, 12],\n",
       " [8, 16],\n",
       " [8, 20],\n",
       " [8, 24],\n",
       " [9, 13],\n",
       " [9, 17],\n",
       " [9, 21],\n",
       " [9, 25]]"
      ]
     },
     "execution_count": 14,
     "metadata": {},
     "output_type": "execute_result"
    }
   ],
   "source": [
    "l2 = [[i, 2*j+i] for i in range (10) for j in range (2, 10, 2)]\n",
    "l2"
   ]
  },
  {
   "cell_type": "code",
   "execution_count": 15,
   "metadata": {},
   "outputs": [
    {
     "data": {
      "text/plain": [
       "['blue', 'red', 'red', 'blue', 'red', 'red', 'blue', 'red', 'red', 'blue']"
      ]
     },
     "execution_count": 15,
     "metadata": {},
     "output_type": "execute_result"
    }
   ],
   "source": [
    "['red' if t % 3 else 'blue' for t in range(10)]"
   ]
  },
  {
   "cell_type": "markdown",
   "metadata": {},
   "source": [
    "**Question** : avec cette technique construire la sous-liste de `l2` dont la 2e composante est impaire. Rappel l'opérateur % calcule un modulo (reste par la division entière. (12 % 2 vaut 0) ."
   ]
  },
  {
   "cell_type": "code",
   "execution_count": 16,
   "metadata": {},
   "outputs": [
    {
     "data": {
      "text/plain": [
       "[[1, 5],\n",
       " [1, 9],\n",
       " [1, 13],\n",
       " [1, 17],\n",
       " [3, 7],\n",
       " [3, 11],\n",
       " [3, 15],\n",
       " [3, 19],\n",
       " [5, 9],\n",
       " [5, 13],\n",
       " [5, 17],\n",
       " [5, 21],\n",
       " [7, 11],\n",
       " [7, 15],\n",
       " [7, 19],\n",
       " [7, 23],\n",
       " [9, 13],\n",
       " [9, 17],\n",
       " [9, 21],\n",
       " [9, 25]]"
      ]
     },
     "execution_count": 16,
     "metadata": {},
     "output_type": "execute_result"
    }
   ],
   "source": [
    "[l for l in l2 if l[1]%2==1]"
   ]
  },
  {
   "cell_type": "markdown",
   "metadata": {},
   "source": [
    "**Question** : avec la technique des *list_comprehensive*, faire une liste de listes contenant les tables de multiplication pour tous les entiers de 1 à 10."
   ]
  },
  {
   "cell_type": "code",
   "execution_count": 17,
   "metadata": {},
   "outputs": [
    {
     "data": {
      "text/plain": [
       "[[1, 2, 3, 4, 5, 6, 7, 8, 9, 10],\n",
       " [2, 4, 6, 8, 10, 12, 14, 16, 18, 20],\n",
       " [3, 6, 9, 12, 15, 18, 21, 24, 27, 30],\n",
       " [4, 8, 12, 16, 20, 24, 28, 32, 36, 40],\n",
       " [5, 10, 15, 20, 25, 30, 35, 40, 45, 50],\n",
       " [6, 12, 18, 24, 30, 36, 42, 48, 54, 60],\n",
       " [7, 14, 21, 28, 35, 42, 49, 56, 63, 70],\n",
       " [8, 16, 24, 32, 40, 48, 56, 64, 72, 80],\n",
       " [9, 18, 27, 36, 45, 54, 63, 72, 81, 90],\n",
       " [10, 20, 30, 40, 50, 60, 70, 80, 90, 100]]"
      ]
     },
     "execution_count": 17,
     "metadata": {},
     "output_type": "execute_result"
    }
   ],
   "source": [
    "[list(range(i,10*i+1,i)) for i in range(1,11)]"
   ]
  },
  {
   "cell_type": "markdown",
   "metadata": {},
   "source": [
    "Observez le fonctionnement des opérateurs * et + sur les listes..."
   ]
  },
  {
   "cell_type": "code",
   "execution_count": 18,
   "metadata": {},
   "outputs": [
    {
     "data": {
      "text/plain": [
       "[1, 2, 3, 4, 5, 6]"
      ]
     },
     "execution_count": 18,
     "metadata": {},
     "output_type": "execute_result"
    }
   ],
   "source": [
    "[1, 2, 3] + [4, 5, 6]"
   ]
  },
  {
   "cell_type": "code",
   "execution_count": 19,
   "metadata": {},
   "outputs": [
    {
     "data": {
      "text/plain": [
       "[1, 2, 1, 2, 1, 2]"
      ]
     },
     "execution_count": 19,
     "metadata": {},
     "output_type": "execute_result"
    }
   ],
   "source": [
    "[1, 2] * 3"
   ]
  },
  {
   "cell_type": "markdown",
   "metadata": {},
   "source": [
    "Pour plus d'infos sur les listes, voir la doc Python, et l'aide sur les listes...\n",
    "\n",
    "À l'aide des fonctions `dir` ou `help` regarder les méthodes (fonctions) qui s'appliquent aux listes. Essayez d'utiliser au moins deux méthodes."
   ]
  },
  {
   "cell_type": "code",
   "execution_count": 20,
   "metadata": {},
   "outputs": [
    {
     "data": {
      "text/plain": [
       "['__add__',\n",
       " '__class__',\n",
       " '__class_getitem__',\n",
       " '__contains__',\n",
       " '__delattr__',\n",
       " '__delitem__',\n",
       " '__dir__',\n",
       " '__doc__',\n",
       " '__eq__',\n",
       " '__format__',\n",
       " '__ge__',\n",
       " '__getattribute__',\n",
       " '__getitem__',\n",
       " '__gt__',\n",
       " '__hash__',\n",
       " '__iadd__',\n",
       " '__imul__',\n",
       " '__init__',\n",
       " '__init_subclass__',\n",
       " '__iter__',\n",
       " '__le__',\n",
       " '__len__',\n",
       " '__lt__',\n",
       " '__mul__',\n",
       " '__ne__',\n",
       " '__new__',\n",
       " '__reduce__',\n",
       " '__reduce_ex__',\n",
       " '__repr__',\n",
       " '__reversed__',\n",
       " '__rmul__',\n",
       " '__setattr__',\n",
       " '__setitem__',\n",
       " '__sizeof__',\n",
       " '__str__',\n",
       " '__subclasshook__',\n",
       " 'append',\n",
       " 'clear',\n",
       " 'copy',\n",
       " 'count',\n",
       " 'extend',\n",
       " 'index',\n",
       " 'insert',\n",
       " 'pop',\n",
       " 'remove',\n",
       " 'reverse',\n",
       " 'sort']"
      ]
     },
     "execution_count": 20,
     "metadata": {},
     "output_type": "execute_result"
    }
   ],
   "source": [
    "dir(list)"
   ]
  },
  {
   "cell_type": "code",
   "execution_count": 21,
   "metadata": {},
   "outputs": [
    {
     "name": "stdout",
     "output_type": "stream",
     "text": [
      "Help on class list in module builtins:\n",
      "\n",
      "class list(object)\n",
      " |  list(iterable=(), /)\n",
      " |  \n",
      " |  Built-in mutable sequence.\n",
      " |  \n",
      " |  If no argument is given, the constructor creates a new empty list.\n",
      " |  The argument must be an iterable if specified.\n",
      " |  \n",
      " |  Methods defined here:\n",
      " |  \n",
      " |  __add__(self, value, /)\n",
      " |      Return self+value.\n",
      " |  \n",
      " |  __contains__(self, key, /)\n",
      " |      Return key in self.\n",
      " |  \n",
      " |  __delitem__(self, key, /)\n",
      " |      Delete self[key].\n",
      " |  \n",
      " |  __eq__(self, value, /)\n",
      " |      Return self==value.\n",
      " |  \n",
      " |  __ge__(self, value, /)\n",
      " |      Return self>=value.\n",
      " |  \n",
      " |  __getattribute__(self, name, /)\n",
      " |      Return getattr(self, name).\n",
      " |  \n",
      " |  __getitem__(...)\n",
      " |      x.__getitem__(y) <==> x[y]\n",
      " |  \n",
      " |  __gt__(self, value, /)\n",
      " |      Return self>value.\n",
      " |  \n",
      " |  __iadd__(self, value, /)\n",
      " |      Implement self+=value.\n",
      " |  \n",
      " |  __imul__(self, value, /)\n",
      " |      Implement self*=value.\n",
      " |  \n",
      " |  __init__(self, /, *args, **kwargs)\n",
      " |      Initialize self.  See help(type(self)) for accurate signature.\n",
      " |  \n",
      " |  __iter__(self, /)\n",
      " |      Implement iter(self).\n",
      " |  \n",
      " |  __le__(self, value, /)\n",
      " |      Return self<=value.\n",
      " |  \n",
      " |  __len__(self, /)\n",
      " |      Return len(self).\n",
      " |  \n",
      " |  __lt__(self, value, /)\n",
      " |      Return self<value.\n",
      " |  \n",
      " |  __mul__(self, value, /)\n",
      " |      Return self*value.\n",
      " |  \n",
      " |  __ne__(self, value, /)\n",
      " |      Return self!=value.\n",
      " |  \n",
      " |  __repr__(self, /)\n",
      " |      Return repr(self).\n",
      " |  \n",
      " |  __reversed__(self, /)\n",
      " |      Return a reverse iterator over the list.\n",
      " |  \n",
      " |  __rmul__(self, value, /)\n",
      " |      Return value*self.\n",
      " |  \n",
      " |  __setitem__(self, key, value, /)\n",
      " |      Set self[key] to value.\n",
      " |  \n",
      " |  __sizeof__(self, /)\n",
      " |      Return the size of the list in memory, in bytes.\n",
      " |  \n",
      " |  append(self, object, /)\n",
      " |      Append object to the end of the list.\n",
      " |  \n",
      " |  clear(self, /)\n",
      " |      Remove all items from list.\n",
      " |  \n",
      " |  copy(self, /)\n",
      " |      Return a shallow copy of the list.\n",
      " |  \n",
      " |  count(self, value, /)\n",
      " |      Return number of occurrences of value.\n",
      " |  \n",
      " |  extend(self, iterable, /)\n",
      " |      Extend list by appending elements from the iterable.\n",
      " |  \n",
      " |  index(self, value, start=0, stop=9223372036854775807, /)\n",
      " |      Return first index of value.\n",
      " |      \n",
      " |      Raises ValueError if the value is not present.\n",
      " |  \n",
      " |  insert(self, index, object, /)\n",
      " |      Insert object before index.\n",
      " |  \n",
      " |  pop(self, index=-1, /)\n",
      " |      Remove and return item at index (default last).\n",
      " |      \n",
      " |      Raises IndexError if list is empty or index is out of range.\n",
      " |  \n",
      " |  remove(self, value, /)\n",
      " |      Remove first occurrence of value.\n",
      " |      \n",
      " |      Raises ValueError if the value is not present.\n",
      " |  \n",
      " |  reverse(self, /)\n",
      " |      Reverse *IN PLACE*.\n",
      " |  \n",
      " |  sort(self, /, *, key=None, reverse=False)\n",
      " |      Sort the list in ascending order and return None.\n",
      " |      \n",
      " |      The sort is in-place (i.e. the list itself is modified) and stable (i.e. the\n",
      " |      order of two equal elements is maintained).\n",
      " |      \n",
      " |      If a key function is given, apply it once to each list item and sort them,\n",
      " |      ascending or descending, according to their function values.\n",
      " |      \n",
      " |      The reverse flag can be set to sort in descending order.\n",
      " |  \n",
      " |  ----------------------------------------------------------------------\n",
      " |  Class methods defined here:\n",
      " |  \n",
      " |  __class_getitem__(...) from builtins.type\n",
      " |      See PEP 585\n",
      " |  \n",
      " |  ----------------------------------------------------------------------\n",
      " |  Static methods defined here:\n",
      " |  \n",
      " |  __new__(*args, **kwargs) from builtins.type\n",
      " |      Create and return a new object.  See help(type) for accurate signature.\n",
      " |  \n",
      " |  ----------------------------------------------------------------------\n",
      " |  Data and other attributes defined here:\n",
      " |  \n",
      " |  __hash__ = None\n",
      "\n"
     ]
    }
   ],
   "source": [
    "help(list)"
   ]
  },
  {
   "cell_type": "markdown",
   "metadata": {},
   "source": [
    "## Les numpy arrays"
   ]
  },
  {
   "cell_type": "markdown",
   "metadata": {},
   "source": [
    "<span style=\"color:red\">Avec les numpy arrays, on oublie (le plus souvent) les boucles <code>for</code> et les <em>list_comprehensive</em>. Il faut penser matrices!</span>"
   ]
  },
  {
   "cell_type": "markdown",
   "metadata": {},
   "source": [
    "Les `array`s de numpy sont homogènes (données toutes de même type), continues en mémoire, ce qui permet d'être très rapide (grâce à l'arithmétique sur les adresses mémoire)."
   ]
  },
  {
   "cell_type": "code",
   "execution_count": 22,
   "metadata": {},
   "outputs": [],
   "source": [
    "import numpy as np"
   ]
  },
  {
   "cell_type": "markdown",
   "metadata": {},
   "source": [
    "Je commence par fixer une graine pour la reproductibilité..."
   ]
  },
  {
   "cell_type": "code",
   "execution_count": 23,
   "metadata": {},
   "outputs": [],
   "source": [
    "np.random.seed(42) "
   ]
  },
  {
   "cell_type": "code",
   "execution_count": 24,
   "metadata": {},
   "outputs": [
    {
     "data": {
      "text/plain": [
       "array([1.5, 4. , 6. ])"
      ]
     },
     "execution_count": 24,
     "metadata": {},
     "output_type": "execute_result"
    }
   ],
   "source": [
    "ar1 = np.array([1.5, 4, 6])\n",
    "ar1"
   ]
  },
  {
   "cell_type": "markdown",
   "metadata": {},
   "source": [
    "**Question** Observez les dimensions de ce `array` à l'aide de `shape` et le type de contenu à l'aide de `dtype`."
   ]
  },
  {
   "cell_type": "code",
   "execution_count": 25,
   "metadata": {},
   "outputs": [
    {
     "data": {
      "text/plain": [
       "(3,)"
      ]
     },
     "execution_count": 25,
     "metadata": {},
     "output_type": "execute_result"
    }
   ],
   "source": [
    "ar1.shape"
   ]
  },
  {
   "cell_type": "code",
   "execution_count": 26,
   "metadata": {},
   "outputs": [
    {
     "data": {
      "text/plain": [
       "dtype('float64')"
      ]
     },
     "execution_count": 26,
     "metadata": {},
     "output_type": "execute_result"
    }
   ],
   "source": [
    "ar1.dtype"
   ]
  },
  {
   "cell_type": "markdown",
   "metadata": {},
   "source": [
    "On peut construire un `array` de numpy à partir de liste. Observez notamment la conversion de type appliquée pour obtenir un ensemble homogène."
   ]
  },
  {
   "cell_type": "code",
   "execution_count": 27,
   "metadata": {},
   "outputs": [
    {
     "data": {
      "text/plain": [
       "array(['917', 'phi', '3.14159265358'], dtype='<U32')"
      ]
     },
     "execution_count": 27,
     "metadata": {},
     "output_type": "execute_result"
    }
   ],
   "source": [
    "np.array(l)"
   ]
  },
  {
   "cell_type": "code",
   "execution_count": 28,
   "metadata": {},
   "outputs": [
    {
     "data": {
      "text/plain": [
       "array([[ 0,  4],\n",
       "       [ 0,  8],\n",
       "       [ 0, 12],\n",
       "       [ 0, 16],\n",
       "       [ 1,  5],\n",
       "       [ 1,  9],\n",
       "       [ 1, 13],\n",
       "       [ 1, 17],\n",
       "       [ 2,  6],\n",
       "       [ 2, 10],\n",
       "       [ 2, 14],\n",
       "       [ 2, 18],\n",
       "       [ 3,  7],\n",
       "       [ 3, 11],\n",
       "       [ 3, 15],\n",
       "       [ 3, 19],\n",
       "       [ 4,  8],\n",
       "       [ 4, 12],\n",
       "       [ 4, 16],\n",
       "       [ 4, 20],\n",
       "       [ 5,  9],\n",
       "       [ 5, 13],\n",
       "       [ 5, 17],\n",
       "       [ 5, 21],\n",
       "       [ 6, 10],\n",
       "       [ 6, 14],\n",
       "       [ 6, 18],\n",
       "       [ 6, 22],\n",
       "       [ 7, 11],\n",
       "       [ 7, 15],\n",
       "       [ 7, 19],\n",
       "       [ 7, 23],\n",
       "       [ 8, 12],\n",
       "       [ 8, 16],\n",
       "       [ 8, 20],\n",
       "       [ 8, 24],\n",
       "       [ 9, 13],\n",
       "       [ 9, 17],\n",
       "       [ 9, 21],\n",
       "       [ 9, 25]])"
      ]
     },
     "execution_count": 28,
     "metadata": {},
     "output_type": "execute_result"
    }
   ],
   "source": [
    "ar2 = np.array(l2)\n",
    "ar2"
   ]
  },
  {
   "cell_type": "code",
   "execution_count": 29,
   "metadata": {},
   "outputs": [
    {
     "data": {
      "text/plain": [
       "dtype('int32')"
      ]
     },
     "execution_count": 29,
     "metadata": {},
     "output_type": "execute_result"
    }
   ],
   "source": [
    "ar2.dtype"
   ]
  },
  {
   "cell_type": "markdown",
   "metadata": {},
   "source": [
    "## Tranches, redimensionner, stacker, ...\n",
    "\n",
    "**<span style='color: red'>Activité</span>** On lit le notebook 02.02-The-Basics-Of-NumPy-Arrays."
   ]
  },
  {
   "cell_type": "markdown",
   "metadata": {},
   "source": [
    "### Slicing ou tranches"
   ]
  },
  {
   "cell_type": "markdown",
   "metadata": {},
   "source": [
    "En python les tranches font une copie de surface, en numpy il n'y a pas de copie. C'est très important pour la gestion de la mémoire avec les grands jeux de données."
   ]
  },
  {
   "cell_type": "code",
   "execution_count": 30,
   "metadata": {},
   "outputs": [
    {
     "data": {
      "text/plain": [
       "[1.5, 4]"
      ]
     },
     "execution_count": 30,
     "metadata": {},
     "output_type": "execute_result"
    }
   ],
   "source": [
    "l1 = [1.5, 4, 6]\n",
    "sl1 = l1[0:2]\n",
    "sl1"
   ]
  },
  {
   "cell_type": "code",
   "execution_count": 31,
   "metadata": {},
   "outputs": [
    {
     "data": {
      "text/plain": [
       "array([1.5, 4. ])"
      ]
     },
     "execution_count": 31,
     "metadata": {},
     "output_type": "execute_result"
    }
   ],
   "source": [
    "ar1_sl1 = ar1[0:2]\n",
    "ar1_sl1"
   ]
  },
  {
   "cell_type": "code",
   "execution_count": 32,
   "metadata": {},
   "outputs": [],
   "source": [
    "ar1_sl1[0] = 12\n",
    "sl1[0] = 12"
   ]
  },
  {
   "cell_type": "code",
   "execution_count": 33,
   "metadata": {},
   "outputs": [
    {
     "data": {
      "text/plain": [
       "(array([12.,  4.]), [12, 4])"
      ]
     },
     "execution_count": 33,
     "metadata": {},
     "output_type": "execute_result"
    }
   ],
   "source": [
    "ar1_sl1, sl1"
   ]
  },
  {
   "cell_type": "code",
   "execution_count": 34,
   "metadata": {},
   "outputs": [
    {
     "data": {
      "text/plain": [
       "(array([12.,  4.,  6.]), [1.5, 4, 6])"
      ]
     },
     "execution_count": 34,
     "metadata": {},
     "output_type": "execute_result"
    }
   ],
   "source": [
    "ar1, l1"
   ]
  },
  {
   "cell_type": "markdown",
   "metadata": {},
   "source": [
    "Les accès aux indices sont plus simples en numpy! (moins de crochets)"
   ]
  },
  {
   "cell_type": "code",
   "execution_count": 35,
   "metadata": {},
   "outputs": [
    {
     "name": "stdout",
     "output_type": "stream",
     "text": [
      "[0 4]\n",
      "[ 4  8 12 16  5  9 13 17  6 10 14 18  7 11 15 19  8 12 16 20  9 13 17 21\n",
      " 10 14 18 22 11 15 19 23 12 16 20 24 13 17 21 25]\n",
      "4\n"
     ]
    }
   ],
   "source": [
    "print(ar2[0])  \n",
    "print(ar2[:, 1]) \n",
    "print(ar2[0, 1])  "
   ]
  },
  {
   "cell_type": "markdown",
   "metadata": {},
   "source": [
    "## Copy"
   ]
  },
  {
   "cell_type": "markdown",
   "metadata": {},
   "source": [
    "La copie d'une liste `list` est en surface, celle d'un numpy `array` c'est en profondeur..."
   ]
  },
  {
   "cell_type": "code",
   "execution_count": 36,
   "metadata": {},
   "outputs": [],
   "source": [
    "ar2_copy = ar2.copy()\n",
    "l2_copy = l2.copy()"
   ]
  },
  {
   "cell_type": "code",
   "execution_count": 37,
   "metadata": {},
   "outputs": [],
   "source": [
    "ar2_copy[0][0] = 12\n",
    "l2_copy[0][0] = 12"
   ]
  },
  {
   "cell_type": "code",
   "execution_count": 38,
   "metadata": {},
   "outputs": [
    {
     "data": {
      "text/plain": [
       "(0, 12)"
      ]
     },
     "execution_count": 38,
     "metadata": {},
     "output_type": "execute_result"
    }
   ],
   "source": [
    "ar2[0][0], l2[0][0]"
   ]
  },
  {
   "cell_type": "markdown",
   "metadata": {},
   "source": [
    "### Opérateurs * + / - ..."
   ]
  },
  {
   "cell_type": "code",
   "execution_count": 39,
   "metadata": {},
   "outputs": [
    {
     "data": {
      "text/plain": [
       "array([[1., 0., 0., 0.],\n",
       "       [0., 1., 0., 0.],\n",
       "       [0., 0., 1., 0.],\n",
       "       [0., 0., 0., 1.]])"
      ]
     },
     "execution_count": 39,
     "metadata": {},
     "output_type": "execute_result"
    }
   ],
   "source": [
    "np.eye(4)"
   ]
  },
  {
   "cell_type": "code",
   "execution_count": 40,
   "metadata": {},
   "outputs": [
    {
     "data": {
      "text/plain": [
       "array([[1., 1., 1., 1.],\n",
       "       [1., 1., 1., 1.],\n",
       "       [1., 1., 1., 1.],\n",
       "       [1., 1., 1., 1.]])"
      ]
     },
     "execution_count": 40,
     "metadata": {},
     "output_type": "execute_result"
    }
   ],
   "source": [
    "np.ones((4,4))"
   ]
  },
  {
   "cell_type": "code",
   "execution_count": 41,
   "metadata": {},
   "outputs": [
    {
     "data": {
      "text/plain": [
       "array([[ 0., -1., -1.],\n",
       "       [-1.,  0., -1.],\n",
       "       [-1., -1.,  0.]])"
      ]
     },
     "execution_count": 41,
     "metadata": {},
     "output_type": "execute_result"
    }
   ],
   "source": [
    "np.eye(3) - np.ones((3,3))"
   ]
  },
  {
   "cell_type": "code",
   "execution_count": 42,
   "metadata": {},
   "outputs": [
    {
     "data": {
      "text/plain": [
       "array([[1., 0., 0.],\n",
       "       [0., 1., 0.],\n",
       "       [0., 0., 1.]])"
      ]
     },
     "execution_count": 42,
     "metadata": {},
     "output_type": "execute_result"
    }
   ],
   "source": [
    "np.eye(3) * np.ones((3,3)) "
   ]
  },
  {
   "cell_type": "code",
   "execution_count": 43,
   "metadata": {},
   "outputs": [
    {
     "data": {
      "text/plain": [
       "array([[4., 4., 4.],\n",
       "       [4., 4., 4.],\n",
       "       [4., 4., 4.]])"
      ]
     },
     "execution_count": 43,
     "metadata": {},
     "output_type": "execute_result"
    }
   ],
   "source": [
    "3 * np.ones((3,3)) + 1"
   ]
  },
  {
   "cell_type": "code",
   "execution_count": 44,
   "metadata": {},
   "outputs": [
    {
     "data": {
      "text/plain": [
       "array([[0.5, 1. , 1. ],\n",
       "       [1. , 0.5, 1. ],\n",
       "       [1. , 1. , 0.5]])"
      ]
     },
     "execution_count": 44,
     "metadata": {},
     "output_type": "execute_result"
    }
   ],
   "source": [
    "np.ones((3,3)) / (1+np.eye(3))"
   ]
  },
  {
   "cell_type": "markdown",
   "metadata": {},
   "source": [
    "### Redimensionnement\n",
    "\n",
    "- `ravel` vue 1-D \n",
    "- `flatten` copie 1-D.\n",
    "- `reshape` redimensionnement\n",
    "- `transpose` transposition.\n",
    "- `np.newaxis` ajout d'un axe vide (parfois plus intéressant qu'un reshape)."
   ]
  },
  {
   "cell_type": "code",
   "execution_count": 45,
   "metadata": {},
   "outputs": [
    {
     "data": {
      "text/plain": [
       "array([ 0,  4,  0,  8,  0, 12,  0, 16,  1,  5,  1,  9,  1, 13,  1, 17,  2,\n",
       "        6,  2, 10,  2, 14,  2, 18,  3,  7,  3, 11,  3, 15,  3, 19,  4,  8,\n",
       "        4, 12,  4, 16,  4, 20,  5,  9,  5, 13,  5, 17,  5, 21,  6, 10,  6,\n",
       "       14,  6, 18,  6, 22,  7, 11,  7, 15,  7, 19,  7, 23,  8, 12,  8, 16,\n",
       "        8, 20,  8, 24,  9, 13,  9, 17,  9, 21,  9, 25])"
      ]
     },
     "execution_count": 45,
     "metadata": {},
     "output_type": "execute_result"
    }
   ],
   "source": [
    "ar2.ravel()"
   ]
  },
  {
   "cell_type": "code",
   "execution_count": 46,
   "metadata": {},
   "outputs": [
    {
     "data": {
      "text/plain": [
       "array([ 0,  4,  0,  8,  0, 12,  0, 16,  1,  5,  1,  9,  1, 13,  1, 17,  2,\n",
       "        6,  2, 10,  2, 14,  2, 18,  3,  7,  3, 11,  3, 15,  3, 19,  4,  8,\n",
       "        4, 12,  4, 16,  4, 20,  5,  9,  5, 13,  5, 17,  5, 21,  6, 10,  6,\n",
       "       14,  6, 18,  6, 22,  7, 11,  7, 15,  7, 19,  7, 23,  8, 12,  8, 16,\n",
       "        8, 20,  8, 24,  9, 13,  9, 17,  9, 21,  9, 25])"
      ]
     },
     "execution_count": 46,
     "metadata": {},
     "output_type": "execute_result"
    }
   ],
   "source": [
    "new_ar2 = ar2.flatten()\n",
    "new_ar2"
   ]
  },
  {
   "cell_type": "code",
   "execution_count": 47,
   "metadata": {},
   "outputs": [
    {
     "data": {
      "text/plain": [
       "array([[ 0,  4,  0,  8,  0, 12,  0, 16],\n",
       "       [ 1,  5,  1,  9,  1, 13,  1, 17],\n",
       "       [ 2,  6,  2, 10,  2, 14,  2, 18],\n",
       "       [ 3,  7,  3, 11,  3, 15,  3, 19],\n",
       "       [ 4,  8,  4, 12,  4, 16,  4, 20],\n",
       "       [ 5,  9,  5, 13,  5, 17,  5, 21],\n",
       "       [ 6, 10,  6, 14,  6, 18,  6, 22],\n",
       "       [ 7, 11,  7, 15,  7, 19,  7, 23],\n",
       "       [ 8, 12,  8, 16,  8, 20,  8, 24],\n",
       "       [ 9, 13,  9, 17,  9, 21,  9, 25]])"
      ]
     },
     "execution_count": 47,
     "metadata": {},
     "output_type": "execute_result"
    }
   ],
   "source": [
    "new_ar2.reshape((10,8))"
   ]
  },
  {
   "cell_type": "code",
   "execution_count": 48,
   "metadata": {},
   "outputs": [
    {
     "data": {
      "text/plain": [
       "array([ 0,  4,  0,  8,  0, 12,  0, 16,  1,  5,  1,  9,  1, 13,  1, 17,  2,\n",
       "        6,  2, 10,  2, 14,  2, 18,  3,  7,  3, 11,  3, 15,  3, 19,  4,  8,\n",
       "        4, 12,  4, 16,  4, 20,  5,  9,  5, 13,  5, 17,  5, 21,  6, 10,  6,\n",
       "       14,  6, 18,  6, 22,  7, 11,  7, 15,  7, 19,  7, 23,  8, 12,  8, 16,\n",
       "        8, 20,  8, 24,  9, 13,  9, 17,  9, 21,  9, 25])"
      ]
     },
     "execution_count": 48,
     "metadata": {},
     "output_type": "execute_result"
    }
   ],
   "source": [
    "new_ar2"
   ]
  },
  {
   "cell_type": "code",
   "execution_count": 49,
   "metadata": {},
   "outputs": [
    {
     "data": {
      "text/plain": [
       "array([[ 0,  4,  0,  8,  0, 12,  0, 16,  1,  5,  1,  9,  1, 13,  1, 17,\n",
       "         2,  6,  2, 10,  2, 14,  2, 18,  3,  7,  3, 11,  3, 15,  3, 19,\n",
       "         4,  8,  4, 12,  4, 16,  4, 20,  5,  9,  5, 13,  5, 17,  5, 21,\n",
       "         6, 10,  6, 14,  6, 18,  6, 22,  7, 11,  7, 15,  7, 19,  7, 23,\n",
       "         8, 12,  8, 16,  8, 20,  8, 24,  9, 13,  9, 17,  9, 21,  9, 25]])"
      ]
     },
     "execution_count": 49,
     "metadata": {},
     "output_type": "execute_result"
    }
   ],
   "source": [
    "new_ar2[np.newaxis,:]"
   ]
  },
  {
   "cell_type": "code",
   "execution_count": 50,
   "metadata": {},
   "outputs": [
    {
     "data": {
      "text/plain": [
       "array([[ 0],\n",
       "       [ 4],\n",
       "       [ 0],\n",
       "       [ 8],\n",
       "       [ 0],\n",
       "       [12],\n",
       "       [ 0],\n",
       "       [16],\n",
       "       [ 1],\n",
       "       [ 5],\n",
       "       [ 1],\n",
       "       [ 9],\n",
       "       [ 1],\n",
       "       [13],\n",
       "       [ 1],\n",
       "       [17],\n",
       "       [ 2],\n",
       "       [ 6],\n",
       "       [ 2],\n",
       "       [10],\n",
       "       [ 2],\n",
       "       [14],\n",
       "       [ 2],\n",
       "       [18],\n",
       "       [ 3],\n",
       "       [ 7],\n",
       "       [ 3],\n",
       "       [11],\n",
       "       [ 3],\n",
       "       [15],\n",
       "       [ 3],\n",
       "       [19],\n",
       "       [ 4],\n",
       "       [ 8],\n",
       "       [ 4],\n",
       "       [12],\n",
       "       [ 4],\n",
       "       [16],\n",
       "       [ 4],\n",
       "       [20],\n",
       "       [ 5],\n",
       "       [ 9],\n",
       "       [ 5],\n",
       "       [13],\n",
       "       [ 5],\n",
       "       [17],\n",
       "       [ 5],\n",
       "       [21],\n",
       "       [ 6],\n",
       "       [10],\n",
       "       [ 6],\n",
       "       [14],\n",
       "       [ 6],\n",
       "       [18],\n",
       "       [ 6],\n",
       "       [22],\n",
       "       [ 7],\n",
       "       [11],\n",
       "       [ 7],\n",
       "       [15],\n",
       "       [ 7],\n",
       "       [19],\n",
       "       [ 7],\n",
       "       [23],\n",
       "       [ 8],\n",
       "       [12],\n",
       "       [ 8],\n",
       "       [16],\n",
       "       [ 8],\n",
       "       [20],\n",
       "       [ 8],\n",
       "       [24],\n",
       "       [ 9],\n",
       "       [13],\n",
       "       [ 9],\n",
       "       [17],\n",
       "       [ 9],\n",
       "       [21],\n",
       "       [ 9],\n",
       "       [25]])"
      ]
     },
     "execution_count": 50,
     "metadata": {},
     "output_type": "execute_result"
    }
   ],
   "source": [
    "new_ar2[:,np.newaxis]"
   ]
  },
  {
   "cell_type": "code",
   "execution_count": 51,
   "metadata": {},
   "outputs": [
    {
     "name": "stdout",
     "output_type": "stream",
     "text": [
      "(80,)\n"
     ]
    },
    {
     "data": {
      "text/plain": [
       "array([[ 0,  4,  0,  8,  0, 12,  0, 16,  1,  5],\n",
       "       [ 1,  9,  1, 13,  1, 17,  2,  6,  2, 10],\n",
       "       [ 2, 14,  2, 18,  3,  7,  3, 11,  3, 15],\n",
       "       [ 3, 19,  4,  8,  4, 12,  4, 16,  4, 20],\n",
       "       [ 5,  9,  5, 13,  5, 17,  5, 21,  6, 10],\n",
       "       [ 6, 14,  6, 18,  6, 22,  7, 11,  7, 15],\n",
       "       [ 7, 19,  7, 23,  8, 12,  8, 16,  8, 20],\n",
       "       [ 8, 24,  9, 13,  9, 17,  9, 21,  9, 25]])"
      ]
     },
     "execution_count": 51,
     "metadata": {},
     "output_type": "execute_result"
    }
   ],
   "source": [
    "print(new_ar2.shape)\n",
    "new_ar2.reshape((-1,10))  # -1 est remplacé par la valeur qu'il faut!"
   ]
  },
  {
   "cell_type": "markdown",
   "metadata": {},
   "source": [
    "### Empiler des arrays"
   ]
  },
  {
   "cell_type": "code",
   "execution_count": 52,
   "metadata": {},
   "outputs": [],
   "source": [
    "m1 = np.ones((3,1))\n",
    "m2 = np.full((3,2), 2)"
   ]
  },
  {
   "cell_type": "code",
   "execution_count": 53,
   "metadata": {},
   "outputs": [
    {
     "data": {
      "text/plain": [
       "array([[1., 2., 2.],\n",
       "       [1., 2., 2.],\n",
       "       [1., 2., 2.]])"
      ]
     },
     "execution_count": 53,
     "metadata": {},
     "output_type": "execute_result"
    }
   ],
   "source": [
    "np.hstack((m1, m2))"
   ]
  },
  {
   "cell_type": "code",
   "execution_count": 54,
   "metadata": {},
   "outputs": [
    {
     "data": {
      "text/plain": [
       "array([[1., 1., 1.],\n",
       "       [2., 2., 2.],\n",
       "       [2., 2., 2.]])"
      ]
     },
     "execution_count": 54,
     "metadata": {},
     "output_type": "execute_result"
    }
   ],
   "source": [
    "np.vstack([m1.T, m2.T])"
   ]
  },
  {
   "cell_type": "code",
   "execution_count": 55,
   "metadata": {},
   "outputs": [
    {
     "data": {
      "text/plain": [
       "array([[1., 1., 1.],\n",
       "       [2., 2., 2.],\n",
       "       [2., 2., 2.]])"
      ]
     },
     "execution_count": 55,
     "metadata": {},
     "output_type": "execute_result"
    }
   ],
   "source": [
    "np.concatenate((m1.T, m2.T))"
   ]
  },
  {
   "cell_type": "code",
   "execution_count": 56,
   "metadata": {},
   "outputs": [
    {
     "data": {
      "text/plain": [
       "array([[1., 2., 2.],\n",
       "       [1., 2., 2.],\n",
       "       [1., 2., 2.]])"
      ]
     },
     "execution_count": 56,
     "metadata": {},
     "output_type": "execute_result"
    }
   ],
   "source": [
    "np.concatenate((m1, m2), axis=1)"
   ]
  },
  {
   "cell_type": "code",
   "execution_count": 57,
   "metadata": {},
   "outputs": [
    {
     "data": {
      "text/plain": [
       "array([[1., 2., 2.],\n",
       "       [1., 2., 2.],\n",
       "       [1., 2., 2.]])"
      ]
     },
     "execution_count": 57,
     "metadata": {},
     "output_type": "execute_result"
    }
   ],
   "source": [
    "np.c_[m1,m2]"
   ]
  },
  {
   "cell_type": "code",
   "execution_count": 58,
   "metadata": {},
   "outputs": [
    {
     "data": {
      "text/plain": [
       "array([[1., 1., 1.],\n",
       "       [2., 2., 2.],\n",
       "       [2., 2., 2.]])"
      ]
     },
     "execution_count": 58,
     "metadata": {},
     "output_type": "execute_result"
    }
   ],
   "source": [
    "np.r_[m1.T, m2.T]"
   ]
  },
  {
   "cell_type": "markdown",
   "metadata": {},
   "source": [
    "### Agrégation"
   ]
  },
  {
   "cell_type": "markdown",
   "metadata": {},
   "source": [
    "Les opérations `np.sum`, `np.max`, `np.min`, `np.std` fonctionnent par défaut sur la matrice à plat, mais on peut spécifier un axe."
   ]
  },
  {
   "cell_type": "code",
   "execution_count": 59,
   "metadata": {},
   "outputs": [
    {
     "data": {
      "text/plain": [
       "760"
      ]
     },
     "execution_count": 59,
     "metadata": {},
     "output_type": "execute_result"
    }
   ],
   "source": [
    "np.sum(ar2)"
   ]
  },
  {
   "cell_type": "code",
   "execution_count": 60,
   "metadata": {},
   "outputs": [
    {
     "data": {
      "text/plain": [
       "array([180, 580])"
      ]
     },
     "execution_count": 60,
     "metadata": {},
     "output_type": "execute_result"
    }
   ],
   "source": [
    "np.sum(ar2, axis=0)"
   ]
  },
  {
   "cell_type": "code",
   "execution_count": 61,
   "metadata": {},
   "outputs": [
    {
     "data": {
      "text/plain": [
       "array([ 4,  8, 12, 16,  6, 10, 14, 18,  8, 12, 16, 20, 10, 14, 18, 22, 12,\n",
       "       16, 20, 24, 14, 18, 22, 26, 16, 20, 24, 28, 18, 22, 26, 30, 20, 24,\n",
       "       28, 32, 22, 26, 30, 34])"
      ]
     },
     "execution_count": 61,
     "metadata": {},
     "output_type": "execute_result"
    }
   ],
   "source": [
    "np.sum(ar2, axis=1)"
   ]
  },
  {
   "cell_type": "markdown",
   "metadata": {},
   "source": [
    "###  Sélection"
   ]
  },
  {
   "cell_type": "code",
   "execution_count": 62,
   "metadata": {},
   "outputs": [
    {
     "data": {
      "text/plain": [
       "array([[7, 4, 8],\n",
       "       [5, 7, 3],\n",
       "       [7, 8, 5],\n",
       "       [4, 8, 8]])"
      ]
     },
     "execution_count": 62,
     "metadata": {},
     "output_type": "execute_result"
    }
   ],
   "source": [
    "r1 = np.random.randint(1, 10, (4,3))\n",
    "r1"
   ]
  },
  {
   "cell_type": "code",
   "execution_count": 63,
   "metadata": {},
   "outputs": [
    {
     "data": {
      "text/plain": [
       "array([[False,  True, False],\n",
       "       [False, False,  True],\n",
       "       [False, False, False],\n",
       "       [ True, False, False]])"
      ]
     },
     "execution_count": 63,
     "metadata": {},
     "output_type": "execute_result"
    }
   ],
   "source": [
    "r1<5"
   ]
  },
  {
   "cell_type": "code",
   "execution_count": 64,
   "metadata": {},
   "outputs": [
    {
     "data": {
      "text/plain": [
       "array([4, 3, 4])"
      ]
     },
     "execution_count": 64,
     "metadata": {},
     "output_type": "execute_result"
    }
   ],
   "source": [
    "r1[r1<5]"
   ]
  },
  {
   "cell_type": "code",
   "execution_count": 65,
   "metadata": {},
   "outputs": [
    {
     "data": {
      "text/plain": [
       "array([[ 5, 12,  5],\n",
       "       [ 5,  5, 12],\n",
       "       [ 5,  5,  5],\n",
       "       [12,  5,  5]])"
      ]
     },
     "execution_count": 65,
     "metadata": {},
     "output_type": "execute_result"
    }
   ],
   "source": [
    "np.where(r1<5,np.full((4,3),12), np.full((4,3),5))"
   ]
  },
  {
   "cell_type": "markdown",
   "metadata": {},
   "source": [
    "## Fonctions importantes  et exercices\n",
    "- arange\n",
    "- zeros, ones\n",
    "- eye\n",
    "- linspace\n",
    "- et dans le module `random`\n",
    "   - randint\n",
    "   - normal"
   ]
  },
  {
   "cell_type": "markdown",
   "metadata": {},
   "source": [
    "**Question** Affichez l'aide sur `random.normal`, puis générer un ensemble de 100 valeurs de moyenne 0 et d'écart type 3. Appeler `s1` cet `array`."
   ]
  },
  {
   "cell_type": "code",
   "execution_count": 66,
   "metadata": {
    "scrolled": true
   },
   "outputs": [
    {
     "name": "stdout",
     "output_type": "stream",
     "text": [
      "[-1.44785639  0.49249446  0.69928572  0.35398384  4.38713436  4.6161449\n",
      " -7.31731745  1.81032368 -0.7531319  -0.49160135 -4.42898908  4.46094287\n",
      " -0.07336553  1.06665395  1.25103333  2.49738557 -0.88019744 -0.08951571\n",
      "  0.28537735  1.99396303 -0.42065549 -0.0995802  -2.24722957 -2.33514602\n",
      "  2.84652857  4.74255176 -1.10451282  1.1266939  -3.57947469 -1.22715571\n",
      " -1.34022441  4.5727249   0.96899939 -4.18025082 -6.53500274 -3.13168922\n",
      "  0.51808112  0.9725963   2.23757863 -5.50974972  1.69339272  0.076502\n",
      "  1.41957975  1.9775718   7.022239    3.21295556  0.28924944  1.25730632\n",
      " -2.85908337 -3.14361181 -5.62703032 -4.10034642  1.90891533 -2.72016201\n",
      "  1.42812776  3.91098381  0.63476104  1.79113394 -2.68900555 -0.33596346\n",
      "  4.40682386 -3.371695    2.85001619  5.17954941  1.37365523 -5.05286214\n",
      "  0.98053567 -0.24335686  1.40338426  2.20836705 -2.33910564 -2.53168908\n",
      " -0.45160157 -2.89667302  0.45146723 -0.34026375  7.90058466 -3.07527267\n",
      " -2.34614348  1.27182921  2.61811529  6.86167795  4.8687615   2.47119923\n",
      "  0.87917774  2.68989115 -1.83096605 -0.94849769 -4.44727274 -0.68654255\n",
      "  2.88792387 -0.62907731 -2.32212879 -1.07933444  2.17224975 -0.76729391\n",
      "  2.54976361 -3.93397268 -2.61091486 -1.51992966]\n"
     ]
    }
   ],
   "source": [
    "s1 = np.random.normal(0, 3, 100)\n",
    "print(s1)"
   ]
  },
  {
   "cell_type": "markdown",
   "metadata": {},
   "source": [
    "**Question** Rechercher dans la documentation comment générer un échantillon `s2` de 1000 points en dimension 2 (dans $\\mathbb R^2$) où chaque coordonnée est tirée selon une loi normale centrée en 0 et de variance 10 . (Il faut faire une matrice de 2 lignes, la première ligne contient les 1000 coordonnées pour la première dimension, la seconde ligne contient les 1000 coordonnées pour la seconde dimension)"
   ]
  },
  {
   "cell_type": "code",
   "execution_count": 67,
   "metadata": {},
   "outputs": [
    {
     "name": "stdout",
     "output_type": "stream",
     "text": [
      "[[-4.14242779  9.30868106 -3.46669683 ... -3.62136898  1.85866976\n",
      "   0.36414196]\n",
      " [-2.34647245 -4.12568261  4.44155613 ... -0.87124004  2.89039122\n",
      "  -2.99924603]]\n"
     ]
    }
   ],
   "source": [
    "s2 = np.random.normal(0, np.sqrt(10), (2, 1000))\n",
    "print(s2)"
   ]
  },
  {
   "cell_type": "markdown",
   "metadata": {},
   "source": [
    "**Question** Importer les modules nécessaires pour tracer un plot pour la fonction représentée par `s1`"
   ]
  },
  {
   "cell_type": "code",
   "execution_count": 68,
   "metadata": {},
   "outputs": [],
   "source": [
    "from numpy import exp, sqrt, pi\n",
    "import matplotlib.pyplot as plt\n",
    "\n",
    "def fnorm(x, m, s):\n",
    "    return 1/(s*np.sqrt(2*pi))*exp(-(x-m)**2/(2*s**2))"
   ]
  },
  {
   "cell_type": "code",
   "execution_count": 69,
   "metadata": {},
   "outputs": [
    {
     "data": {
      "image/png": "[encoded data removed]",
      "text/plain": [
       "<Figure size 432x288 with 1 Axes>"
      ]
     },
     "metadata": {
      "needs_background": "light"
     },
     "output_type": "display_data"
    }
   ],
   "source": [
    "X = np.arange(-10, 10, 0.01)\n",
    "Y = [fnorm(x, 0, 3) for x in X]\n",
    "plt.plot(X,Y)\n",
    "plt.plot(s1, [0]*100, '.')\n",
    "plt.grid()"
   ]
  },
  {
   "cell_type": "markdown",
   "metadata": {},
   "source": [
    "**Question** : Tracer avec seaborn la distribution, (essayer plusieurs tracés, uniquement un histogramme, puis une estimation de la densité, essayez rugplot également,... soyez curieux!)"
   ]
  },
  {
   "cell_type": "code",
   "execution_count": 70,
   "metadata": {},
   "outputs": [],
   "source": [
    "import seaborn as sns"
   ]
  },
  {
   "cell_type": "code",
   "execution_count": 71,
   "metadata": {},
   "outputs": [
    {
     "data": {
      "text/plain": [
       "<AxesSubplot:ylabel='Density'>"
      ]
     },
     "execution_count": 71,
     "metadata": {},
     "output_type": "execute_result"
    },
    {
     "data": {
      "image/png": "[encoded data removed]",
      "text/plain": [
       "<Figure size 432x288 with 1 Axes>"
      ]
     },
     "metadata": {
      "needs_background": "light"
     },
     "output_type": "display_data"
    }
   ],
   "source": [
    "sns.histplot(s1, discrete=True, stat=\"density\", kde=True)"
   ]
  },
  {
   "cell_type": "code",
   "execution_count": 72,
   "metadata": {},
   "outputs": [
    {
     "data": {
      "text/plain": [
       "<AxesSubplot:ylabel='Density'>"
      ]
     },
     "execution_count": 72,
     "metadata": {},
     "output_type": "execute_result"
    },
    {
     "data": {
      "image/png": "[encoded data removed]",
      "text/plain": [
       "<Figure size 432x288 with 1 Axes>"
      ]
     },
     "metadata": {
      "needs_background": "light"
     },
     "output_type": "display_data"
    }
   ],
   "source": [
    "sns.kdeplot(s1)\n",
    "sns.rugplot(s1)"
   ]
  },
  {
   "cell_type": "markdown",
   "metadata": {},
   "source": [
    "**Question** Tracer un scatter plot pour s2 avec pyplot et seaborn."
   ]
  },
  {
   "cell_type": "code",
   "execution_count": 73,
   "metadata": {},
   "outputs": [
    {
     "data": {
      "image/png": "[encoded data removed]",
      "text/plain": [
       "<Figure size 432x288 with 1 Axes>"
      ]
     },
     "metadata": {
      "needs_background": "light"
     },
     "output_type": "display_data"
    }
   ],
   "source": [
    "plt.scatter(s2[0,:], s2[1,:])\n",
    "plt.grid()"
   ]
  },
  {
   "cell_type": "code",
   "execution_count": 74,
   "metadata": {},
   "outputs": [
    {
     "data": {
      "text/plain": [
       "<AxesSubplot:>"
      ]
     },
     "execution_count": 74,
     "metadata": {},
     "output_type": "execute_result"
    },
    {
     "data": {
      "image/png": "[encoded data removed]",
      "text/plain": [
       "<Figure size 432x288 with 1 Axes>"
      ]
     },
     "metadata": {
      "needs_background": "light"
     },
     "output_type": "display_data"
    }
   ],
   "source": [
    "sns.scatterplot(x=s2[0,:], y=s2[1,:])"
   ]
  },
  {
   "cell_type": "markdown",
   "metadata": {},
   "source": [
    "**Questions**\n",
    "\n",
    "Générer les objets suivants nommés ex1, ex2, ex3 et ex4.\n",
    "\n",
    "1. une matrice identité de dimension 5\n",
    "2. un tenseur de 0 de dimensions 3x4x5\n",
    "3. un vecteur d'entiers entre 4 et 100 de 3 en 3: 4, 7, 10, ....\n",
    "4. un vecteur de 100 valeurs régulièrement espacées entre 5 et 8."
   ]
  },
  {
   "cell_type": "code",
   "execution_count": 75,
   "metadata": {},
   "outputs": [],
   "source": [
    "ex1 = np.eye(5)\n",
    "ex2 = np.zeros(shape=(3,4,5))\n",
    "ex3 = np.arange(4,101,3)\n",
    "ex4 = np.linspace(5,8,100)"
   ]
  },
  {
   "cell_type": "code",
   "execution_count": 76,
   "metadata": {},
   "outputs": [
    {
     "name": "stdout",
     "output_type": "stream",
     "text": [
      "ex1 = \n",
      "[[1. 0. 0. 0. 0.]\n",
      " [0. 1. 0. 0. 0.]\n",
      " [0. 0. 1. 0. 0.]\n",
      " [0. 0. 0. 1. 0.]\n",
      " [0. 0. 0. 0. 1.]]\n",
      "\n",
      "ex2 = \n",
      "[[[0. 0. 0. 0. 0.]\n",
      "  [0. 0. 0. 0. 0.]\n",
      "  [0. 0. 0. 0. 0.]\n",
      "  [0. 0. 0. 0. 0.]]\n",
      "\n",
      " [[0. 0. 0. 0. 0.]\n",
      "  [0. 0. 0. 0. 0.]\n",
      "  [0. 0. 0. 0. 0.]\n",
      "  [0. 0. 0. 0. 0.]]\n",
      "\n",
      " [[0. 0. 0. 0. 0.]\n",
      "  [0. 0. 0. 0. 0.]\n",
      "  [0. 0. 0. 0. 0.]\n",
      "  [0. 0. 0. 0. 0.]]]\n",
      "\n",
      "ex3 = \n",
      "[  4   7  10  13  16  19  22  25  28  31  34  37  40  43  46  49  52  55\n",
      "  58  61  64  67  70  73  76  79  82  85  88  91  94  97 100]\n",
      "\n",
      "ex4 = \n",
      "[5.         5.03030303 5.06060606 5.09090909 5.12121212 5.15151515\n",
      " 5.18181818 5.21212121 5.24242424 5.27272727 5.3030303  5.33333333\n",
      " 5.36363636 5.39393939 5.42424242 5.45454545 5.48484848 5.51515152\n",
      " 5.54545455 5.57575758 5.60606061 5.63636364 5.66666667 5.6969697\n",
      " 5.72727273 5.75757576 5.78787879 5.81818182 5.84848485 5.87878788\n",
      " 5.90909091 5.93939394 5.96969697 6.         6.03030303 6.06060606\n",
      " 6.09090909 6.12121212 6.15151515 6.18181818 6.21212121 6.24242424\n",
      " 6.27272727 6.3030303  6.33333333 6.36363636 6.39393939 6.42424242\n",
      " 6.45454545 6.48484848 6.51515152 6.54545455 6.57575758 6.60606061\n",
      " 6.63636364 6.66666667 6.6969697  6.72727273 6.75757576 6.78787879\n",
      " 6.81818182 6.84848485 6.87878788 6.90909091 6.93939394 6.96969697\n",
      " 7.         7.03030303 7.06060606 7.09090909 7.12121212 7.15151515\n",
      " 7.18181818 7.21212121 7.24242424 7.27272727 7.3030303  7.33333333\n",
      " 7.36363636 7.39393939 7.42424242 7.45454545 7.48484848 7.51515152\n",
      " 7.54545455 7.57575758 7.60606061 7.63636364 7.66666667 7.6969697\n",
      " 7.72727273 7.75757576 7.78787879 7.81818182 7.84848485 7.87878788\n",
      " 7.90909091 7.93939394 7.96969697 8.        ]\n",
      "\n"
     ]
    }
   ],
   "source": [
    "for i in range(1,5):\n",
    "    res = eval(f'ex{i}')\n",
    "    print(f\"ex{i} = \\n{res}\\n\")"
   ]
  },
  {
   "cell_type": "markdown",
   "metadata": {},
   "source": [
    "**Questions** \n",
    "\n",
    "Faire un jeu de données `X`, `y` tel que `X` contient 1000 points\n",
    "   - 500 sont tirés comme précédemment selon une loi normale pour les 2 coordonnées centrée en 3, 3, variance 1\n",
    "   - 500 sont tirés comme précédemment selon une loi normale pour les 2 coordonnées centrée en 0, 5, variance 1\n",
    "   \n",
    "et `y` (une étiquette) contient 1 pour les 500 premiers et -1 pour les autres. \n",
    "\n",
    "*Remarque* : vous pouvez utiliser des multivariées normales ou des normales... à vous de choisir! Les coordonnées sont indépendantes les unes des autres.\n"
   ]
  },
  {
   "cell_type": "code",
   "execution_count": 77,
   "metadata": {},
   "outputs": [
    {
     "data": {
      "text/plain": [
       "array([[ 4.41187652,  1.30382093,  2.5580318 , ...,  1.34888035,\n",
       "        -0.23182617,  1.36647284],\n",
       "       [ 2.44908882,  2.67146509,  2.66392601, ...,  6.49769852,\n",
       "         3.67380184,  4.94813483]])"
      ]
     },
     "execution_count": 77,
     "metadata": {},
     "output_type": "execute_result"
    }
   ],
   "source": [
    "X1 = np.random.multivariate_normal((3, 3), np.eye(2), 500).T\n",
    "X2 = np.random.multivariate_normal((0, 5), np.eye(2), 500).T\n",
    "X = np.concatenate((X1, X2), axis=1)\n",
    "X"
   ]
  },
  {
   "cell_type": "code",
   "execution_count": 78,
   "metadata": {},
   "outputs": [],
   "source": [
    "y = [1]*500+[-1]*500"
   ]
  },
  {
   "cell_type": "markdown",
   "metadata": {},
   "source": [
    "**<span style='color: blue'>Ici les coordonnées sont indépendante, donc leurs covariances est nulle. Alors la matrice de covariance est la matrice $1\\!\\!1_2$</span>**"
   ]
  },
  {
   "cell_type": "markdown",
   "metadata": {},
   "source": [
    "**Question** Tracer le nuage de points, l'option `c` de pyplot (`hue` de sns) permet de spécifier les couleurs que vous prenez selon `y`."
   ]
  },
  {
   "cell_type": "code",
   "execution_count": 79,
   "metadata": {
    "scrolled": true
   },
   "outputs": [
    {
     "data": {
      "image/png": "[encoded data removed]",
      "text/plain": [
       "<Figure size 432x288 with 1 Axes>"
      ]
     },
     "metadata": {
      "needs_background": "light"
     },
     "output_type": "display_data"
    }
   ],
   "source": [
    "g = plt.scatter(X[0,:], X[1,:], c=y)\n",
    "plt.legend(handles=g.legend_elements()[0], labels=['- 1', '1'])\n",
    "plt.grid()"
   ]
  },
  {
   "cell_type": "markdown",
   "metadata": {},
   "source": [
    "**<span style='color: red'>Activité</span>** Regarder la documentation de la fonction `make_blobs` de `scikit-learn`!..."
   ]
  },
  {
   "cell_type": "markdown",
   "metadata": {},
   "source": [
    "**Question** : recommencer avec cette fonction!"
   ]
  },
  {
   "attachments": {
    "image.png": {
     "image/png": "[encoded data removed]"
    }
   },
   "cell_type": "markdown",
   "metadata": {},
   "source": [
    "![image.png](attachment:image.png)"
   ]
  },
  {
   "cell_type": "code",
   "execution_count": 80,
   "metadata": {},
   "outputs": [],
   "source": [
    "from sklearn.datasets import make_blobs"
   ]
  },
  {
   "cell_type": "code",
   "execution_count": 112,
   "metadata": {},
   "outputs": [],
   "source": [
    "X, y = make_blobs(n_samples=1000, centers=[[3,3],[0,5]], n_features=2, random_state=42, cluster_std=1)"
   ]
  },
  {
   "cell_type": "code",
   "execution_count": 113,
   "metadata": {},
   "outputs": [
    {
     "data": {
      "text/plain": [
       "<AxesSubplot:>"
      ]
     },
     "execution_count": 113,
     "metadata": {},
     "output_type": "execute_result"
    },
    {
     "data": {
      "image/png": "[encoded data removed]",
      "text/plain": [
       "<Figure size 432x288 with 1 Axes>"
      ]
     },
     "metadata": {
      "needs_background": "light"
     },
     "output_type": "display_data"
    }
   ],
   "source": [
    "plt.grid()\n",
    "sns.scatterplot(x=X[:,0], y=X[:,1], hue=y)"
   ]
  },
  {
   "cell_type": "code",
   "execution_count": null,
   "metadata": {},
   "outputs": [],
   "source": []
  }
 ],
 "metadata": {
  "kernelspec": {
   "display_name": "Python 3 (ipykernel)",
   "language": "python",
   "name": "python3"
  },
  "language_info": {
   "codemirror_mode": {
    "name": "ipython",
    "version": 3
   },
   "file_extension": ".py",
   "mimetype": "text/x-python",
   "name": "python",
   "nbconvert_exporter": "python",
   "pygments_lexer": "ipython3",
   "version": "3.9.12"
  }
 },
 "nbformat": 4,
 "nbformat_minor": 2
}
