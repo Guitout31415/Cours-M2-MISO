{
 "cells": [
  {
   "cell_type": "markdown",
   "metadata": {},
   "source": [
    "# Régression Polynomiale, courbes d'apprentissage"
   ]
  },
  {
   "cell_type": "code",
   "execution_count": 2,
   "metadata": {},
   "outputs": [],
   "source": [
    "import numpy as np\n",
    "import matplotlib.pyplot as plt\n",
    "%matplotlib inline\n",
    "import seaborn; seaborn.set()\n",
    "import pandas as pd\n",
    "np.random.seed(42)"
   ]
  },
  {
   "cell_type": "markdown",
   "metadata": {},
   "source": [
    "**Question** Vous avez un ensemble d'entraînement disponible dans dans `data.csv`. Le charger dans un dataframe `df_train`."
   ]
  },
  {
   "cell_type": "code",
   "execution_count": 3,
   "metadata": {},
   "outputs": [],
   "source": [
    "df_train = pd.read_csv(\"data.csv\")"
   ]
  },
  {
   "cell_type": "markdown",
   "metadata": {},
   "source": [
    "**Question** Regarder les 5 premières lignes et afficher des statistiques descriptives,  tracer l'ensemble des points en mettant la variable à prédire `t` en ordonnée. Vous pouvez appeler `X` et `y` les objets contenant la description des données et la variable à prédire"
   ]
  },
  {
   "cell_type": "code",
   "execution_count": 29,
   "metadata": {},
   "outputs": [
    {
     "data": {
      "text/html": [
       "<div>\n",
       "<style scoped>\n",
       "    .dataframe tbody tr th:only-of-type {\n",
       "        vertical-align: middle;\n",
       "    }\n",
       "\n",
       "    .dataframe tbody tr th {\n",
       "        vertical-align: top;\n",
       "    }\n",
       "\n",
       "    .dataframe thead th {\n",
       "        text-align: right;\n",
       "    }\n",
       "</style>\n",
       "<table border=\"1\" class=\"dataframe\">\n",
       "  <thead>\n",
       "    <tr style=\"text-align: right;\">\n",
       "      <th></th>\n",
       "      <th>x</th>\n",
       "      <th>t</th>\n",
       "    </tr>\n",
       "  </thead>\n",
       "  <tbody>\n",
       "    <tr>\n",
       "      <th>0</th>\n",
       "      <td>0.140280</td>\n",
       "      <td>9.880310</td>\n",
       "    </tr>\n",
       "    <tr>\n",
       "      <th>1</th>\n",
       "      <td>0.903858</td>\n",
       "      <td>10.227492</td>\n",
       "    </tr>\n",
       "    <tr>\n",
       "      <th>2</th>\n",
       "      <td>0.535815</td>\n",
       "      <td>10.163115</td>\n",
       "    </tr>\n",
       "    <tr>\n",
       "      <th>3</th>\n",
       "      <td>0.358392</td>\n",
       "      <td>9.937107</td>\n",
       "    </tr>\n",
       "    <tr>\n",
       "      <th>4</th>\n",
       "      <td>0.024342</td>\n",
       "      <td>9.881466</td>\n",
       "    </tr>\n",
       "  </tbody>\n",
       "</table>\n",
       "</div>"
      ],
      "text/plain": [
       "          x          t\n",
       "0  0.140280   9.880310\n",
       "1  0.903858  10.227492\n",
       "2  0.535815  10.163115\n",
       "3  0.358392   9.937107\n",
       "4  0.024342   9.881466"
      ]
     },
     "execution_count": 29,
     "metadata": {},
     "output_type": "execute_result"
    }
   ],
   "source": [
    "df_train.head(5)"
   ]
  },
  {
   "cell_type": "code",
   "execution_count": 5,
   "metadata": {},
   "outputs": [
    {
     "data": {
      "text/html": [
       "<div>\n",
       "<style scoped>\n",
       "    .dataframe tbody tr th:only-of-type {\n",
       "        vertical-align: middle;\n",
       "    }\n",
       "\n",
       "    .dataframe tbody tr th {\n",
       "        vertical-align: top;\n",
       "    }\n",
       "\n",
       "    .dataframe thead th {\n",
       "        text-align: right;\n",
       "    }\n",
       "</style>\n",
       "<table border=\"1\" class=\"dataframe\">\n",
       "  <thead>\n",
       "    <tr style=\"text-align: right;\">\n",
       "      <th></th>\n",
       "      <th>x</th>\n",
       "      <th>t</th>\n",
       "    </tr>\n",
       "  </thead>\n",
       "  <tbody>\n",
       "    <tr>\n",
       "      <th>count</th>\n",
       "      <td>50.000000</td>\n",
       "      <td>50.000000</td>\n",
       "    </tr>\n",
       "    <tr>\n",
       "      <th>mean</th>\n",
       "      <td>0.280633</td>\n",
       "      <td>9.994401</td>\n",
       "    </tr>\n",
       "    <tr>\n",
       "      <th>std</th>\n",
       "      <td>0.291519</td>\n",
       "      <td>0.150313</td>\n",
       "    </tr>\n",
       "    <tr>\n",
       "      <th>min</th>\n",
       "      <td>0.000424</td>\n",
       "      <td>9.739527</td>\n",
       "    </tr>\n",
       "    <tr>\n",
       "      <th>25%</th>\n",
       "      <td>0.033771</td>\n",
       "      <td>9.884021</td>\n",
       "    </tr>\n",
       "    <tr>\n",
       "      <th>50%</th>\n",
       "      <td>0.190155</td>\n",
       "      <td>9.962842</td>\n",
       "    </tr>\n",
       "    <tr>\n",
       "      <th>75%</th>\n",
       "      <td>0.422793</td>\n",
       "      <td>10.033667</td>\n",
       "    </tr>\n",
       "    <tr>\n",
       "      <th>max</th>\n",
       "      <td>0.940725</td>\n",
       "      <td>10.380997</td>\n",
       "    </tr>\n",
       "  </tbody>\n",
       "</table>\n",
       "</div>"
      ],
      "text/plain": [
       "               x          t\n",
       "count  50.000000  50.000000\n",
       "mean    0.280633   9.994401\n",
       "std     0.291519   0.150313\n",
       "min     0.000424   9.739527\n",
       "25%     0.033771   9.884021\n",
       "50%     0.190155   9.962842\n",
       "75%     0.422793  10.033667\n",
       "max     0.940725  10.380997"
      ]
     },
     "execution_count": 5,
     "metadata": {},
     "output_type": "execute_result"
    }
   ],
   "source": [
    "df_train.describe()"
   ]
  },
  {
   "cell_type": "code",
   "execution_count": 6,
   "metadata": {},
   "outputs": [],
   "source": [
    "X, y = np.array(df_train[[\"x\"]]), np.array(df_train[[\"t\"]])"
   ]
  },
  {
   "cell_type": "markdown",
   "metadata": {},
   "source": [
    "**Question** Découpez `X` et `y` en 2/3 et 1/3 pour créer des ensembles d'entraînement et de validation"
   ]
  },
  {
   "cell_type": "code",
   "execution_count": 7,
   "metadata": {},
   "outputs": [],
   "source": [
    "from sklearn.model_selection import train_test_split\n",
    "X_train, X_test, y_train, y_test = train_test_split(X, y, train_size=2/3)"
   ]
  },
  {
   "cell_type": "markdown",
   "metadata": {},
   "source": [
    "**Question** Faire une régression lineaire sur ce jeu de données d'entraînement et estimer son score sur l'échantillon de validation. "
   ]
  },
  {
   "cell_type": "code",
   "execution_count": 8,
   "metadata": {},
   "outputs": [
    {
     "name": "stdout",
     "output_type": "stream",
     "text": [
      "a0 =  [9.9002862]\n",
      "a1 =  [[0.35468433]]\n",
      "score = 0.38765059933087564\n"
     ]
    }
   ],
   "source": [
    "from sklearn import linear_model as lm\n",
    "reg = lm.LinearRegression()\n",
    "reg.fit(X=X_train, y=y_train)\n",
    "print(\"a0 = \", reg.intercept_)\n",
    "print(\"a1 = \", reg.coef_)\n",
    "print(\"score =\", reg.score(X_test, y_test))"
   ]
  },
  {
   "cell_type": "markdown",
   "metadata": {},
   "source": [
    "**Question** Tracer dans un diagramme, les points en bleu pour les données d'apprentissage, en rouge pour les données de validation et en noir la droite de régression qui vient d'être calculée."
   ]
  },
  {
   "cell_type": "code",
   "execution_count": 9,
   "metadata": {},
   "outputs": [
    {
     "data": {
      "image/png": "[encoded data removed]",
      "text/plain": [
       "<Figure size 432x288 with 1 Axes>"
      ]
     },
     "metadata": {},
     "output_type": "display_data"
    }
   ],
   "source": [
    "plt.scatter(X_train, y_train, color=\"b\", label=\"train\")\n",
    "plt.scatter(X_test, y_test, color=\"r\", label=\"test\")\n",
    "x = np.linspace(X.min(), X.max(), 100).reshape(100,1)\n",
    "plt.plot(x, reg.predict(x), color=\"black\")\n",
    "plt.legend()\n",
    "plt.show()"
   ]
  },
  {
   "cell_type": "markdown",
   "metadata": {},
   "source": [
    "## Ajouter des attributs, régression polynomiale"
   ]
  },
  {
   "cell_type": "markdown",
   "metadata": {},
   "source": [
    "**Question** Dans les attributs décrivant les données, ajouter le carré de `X`. On doit avoir après cette manipulation `X2_train` et  `X2_valid` de dimensions (50,2)"
   ]
  },
  {
   "cell_type": "code",
   "execution_count": 10,
   "metadata": {},
   "outputs": [
    {
     "data": {
      "text/html": [
       "<div>\n",
       "<style scoped>\n",
       "    .dataframe tbody tr th:only-of-type {\n",
       "        vertical-align: middle;\n",
       "    }\n",
       "\n",
       "    .dataframe tbody tr th {\n",
       "        vertical-align: top;\n",
       "    }\n",
       "\n",
       "    .dataframe thead th {\n",
       "        text-align: right;\n",
       "    }\n",
       "</style>\n",
       "<table border=\"1\" class=\"dataframe\">\n",
       "  <thead>\n",
       "    <tr style=\"text-align: right;\">\n",
       "      <th></th>\n",
       "      <th>x</th>\n",
       "      <th>x**2</th>\n",
       "      <th>t</th>\n",
       "    </tr>\n",
       "  </thead>\n",
       "  <tbody>\n",
       "    <tr>\n",
       "      <th>0</th>\n",
       "      <td>0.140280</td>\n",
       "      <td>0.019679</td>\n",
       "      <td>9.880310</td>\n",
       "    </tr>\n",
       "    <tr>\n",
       "      <th>1</th>\n",
       "      <td>0.903858</td>\n",
       "      <td>0.816959</td>\n",
       "      <td>10.227492</td>\n",
       "    </tr>\n",
       "    <tr>\n",
       "      <th>2</th>\n",
       "      <td>0.535815</td>\n",
       "      <td>0.287098</td>\n",
       "      <td>10.163115</td>\n",
       "    </tr>\n",
       "    <tr>\n",
       "      <th>3</th>\n",
       "      <td>0.358392</td>\n",
       "      <td>0.128445</td>\n",
       "      <td>9.937107</td>\n",
       "    </tr>\n",
       "    <tr>\n",
       "      <th>4</th>\n",
       "      <td>0.024342</td>\n",
       "      <td>0.000593</td>\n",
       "      <td>9.881466</td>\n",
       "    </tr>\n",
       "  </tbody>\n",
       "</table>\n",
       "</div>"
      ],
      "text/plain": [
       "          x      x**2          t\n",
       "0  0.140280  0.019679   9.880310\n",
       "1  0.903858  0.816959  10.227492\n",
       "2  0.535815  0.287098  10.163115\n",
       "3  0.358392  0.128445   9.937107\n",
       "4  0.024342  0.000593   9.881466"
      ]
     },
     "execution_count": 10,
     "metadata": {},
     "output_type": "execute_result"
    }
   ],
   "source": [
    "df_train2 = df_train.copy()\n",
    "df_train2.insert(1,\"x**2\",X**2)\n",
    "df_train2.head()"
   ]
  },
  {
   "cell_type": "code",
   "execution_count": 11,
   "metadata": {},
   "outputs": [],
   "source": [
    "X2 = np.array(df_train2[[\"x\", \"x**2\"]])\n",
    "y2 = np.array(df_train2[[\"t\"]])\n",
    "X2_train, X2_test, y2_train, y2_test = train_test_split(X2, y2, train_size=2/3)"
   ]
  },
  {
   "cell_type": "markdown",
   "metadata": {},
   "source": [
    "**Question** Réentraîner le classifieur linéaire avec cette nouvelle description des données (donc les attributs $x$ et $x^2$)."
   ]
  },
  {
   "cell_type": "code",
   "execution_count": 12,
   "metadata": {},
   "outputs": [
    {
     "name": "stdout",
     "output_type": "stream",
     "text": [
      "a0 =  [9.92958927]\n",
      "a1, a2 =  [[0.07704176 0.31214341]]\n",
      "score = 0.6005074694152126\n"
     ]
    }
   ],
   "source": [
    "reg2 = lm.LinearRegression()\n",
    "reg2.fit(X=X2_train, y=y2_train)\n",
    "print(\"a0 = \", reg2.intercept_)\n",
    "print(\"a1, a2 = \", reg2.coef_)\n",
    "print(\"score =\", reg2.score(X2_test, y2_test))"
   ]
  },
  {
   "cell_type": "markdown",
   "metadata": {},
   "source": [
    "**Question** Tracer maintenant dans un diagamme, les points en bleu pour les données d'apprentissage, en rouge pour les données de test et en noir la courbe de régression qui vient d'être calculée."
   ]
  },
  {
   "cell_type": "code",
   "execution_count": 13,
   "metadata": {},
   "outputs": [
    {
     "data": {
      "image/png": "[encoded data removed]",
      "text/plain": [
       "<Figure size 432x288 with 1 Axes>"
      ]
     },
     "metadata": {},
     "output_type": "display_data"
    }
   ],
   "source": [
    "plt.scatter(X_train, y_train, color=\"b\", label=\"train\")\n",
    "plt.scatter(X_test, y_test, color=\"r\", label=\"test\")\n",
    "x = np.linspace(X.min(), X.max(), 100).reshape(100,1)\n",
    "xx = np.concatenate((x,x**2), axis=1)\n",
    "plt.plot(x, reg2.predict(xx), color=\"black\")\n",
    "plt.legend()\n",
    "plt.show()"
   ]
  },
  {
   "cell_type": "markdown",
   "metadata": {},
   "source": [
    "**Question** Écrire maintenant une fonction `poly` qui prend en argument un jeu de données `X` et un degré `d` et qui calcule une nouvelle représentation avec tous les monômes entre 1 et `d`.\n",
    "\n",
    "    # Exemple : \n",
    "    poly(X, 3)\n",
    "    array([[1.40280301e-01, 1.96785627e-02, 2.76051470e-03],\n",
    "       [9.03857692e-01, 8.16958728e-01, 7.38414431e-01],\n",
    "       [5.35815131e-01, 2.87097854e-01, 1.53831374e-01],\n",
    "       [3.58391981e-01, 1.28444812e-01, 4.60335905e-02],\n",
    "       [2.43418162e-02, 5.92524014e-04, 1.44231106e-05],\n",
    "       [2.43342904e-02, 5.92157688e-04, 1.44097371e-05], ..."
   ]
  },
  {
   "cell_type": "code",
   "execution_count": 14,
   "metadata": {},
   "outputs": [],
   "source": [
    "def poly(X,d):\n",
    "    assert isinstance(d, int) and d>=0\n",
    "    res = X\n",
    "    for k in range(2,d+1):\n",
    "        res = np.concatenate((res,X**k), axis=1)\n",
    "    return res"
   ]
  },
  {
   "cell_type": "markdown",
   "metadata": {},
   "source": [
    "**Question** Construire une liste avec tous les scores de la régression pour 20 représentations des données comprenant tous les monômes de 1 à 20 : (le $i^e$ résultat contient tous les monômes de 1 à $i$)."
   ]
  },
  {
   "cell_type": "code",
   "execution_count": 15,
   "metadata": {},
   "outputs": [
    {
     "data": {
      "text/plain": [
       "[0.3869375325322929,\n",
       " 0.3050415666892001,\n",
       " 0.8971095760259482,\n",
       " 0.8661879908669206,\n",
       " 0.8649418212708071,\n",
       " 0.740608835514559,\n",
       " -4844.379400765094,\n",
       " -8.398850033317604,\n",
       " 0.7049667764617331,\n",
       " -0.27749883674547116,\n",
       " -1.8490446981852315,\n",
       " -6801445.498606407,\n",
       " -12.351508911175824,\n",
       " -8899.482766186802,\n",
       " -8.40795151072164e+18,\n",
       " -1070112536215.6302,\n",
       " -4265697824408.7876,\n",
       " -110172629323.47588,\n",
       " -75231415746.65561,\n",
       " -1.2665625193898032e+16]"
      ]
     },
     "execution_count": 15,
     "metadata": {},
     "output_type": "execute_result"
    }
   ],
   "source": [
    "list_score = []\n",
    "for i in range(1,20+1):\n",
    "    Xi = poly(X,i)\n",
    "    Xi_train, Xi_test, yi_train, yi_test = train_test_split(Xi, y, train_size=2/5)\n",
    "    regi = lm.LinearRegression()\n",
    "    regi.fit(Xi_train, yi_train)\n",
    "    list_score.append(regi.score(Xi_test, yi_test))\n",
    "list_score"
   ]
  },
  {
   "cell_type": "markdown",
   "metadata": {},
   "source": [
    "**Question** Que constatez-vous. Pouvez-vous expliquer ce qui se produit ? Pourquoi les résultats se dégradent-ils quand la représentation des données est de plus en plus riche ?  "
   ]
  },
  {
   "cell_type": "markdown",
   "metadata": {},
   "source": [
    "<font color='blue'/>\n",
    "On fait du sur-apprentissage"
   ]
  },
  {
   "cell_type": "markdown",
   "metadata": {},
   "source": [
    "On va refaire cela avec les outils de scikit-learn.\n",
    "\n",
    "**Question** importez `PolynomialFeatures` de `sklearn.preprocessing`. Utilisez cela pour créer une représentation de X avec le degré 3. Cela donne quelque chose comme : \n",
    "\n",
    "     array([[1.00000000e+00, 1.73907352e-01, 3.02437672e-02, 5.25961348e-03],\n",
    "       [1.00000000e+00, 5.18867376e-01, 2.69223354e-01, 1.39691215e-01],\n",
    "       [1.00000000e+00, 1.30815988e-08, 1.71128228e-16, 2.23863083e-24],\n",
    "       [1.00000000e+00, 9.14049845e-02, 8.35487119e-03, 7.63676871e-04],\n",
    "       [1.00000000e+00, 2.15372915e-02, 4.63854925e-04, 9.99017872e-06], ..."
   ]
  },
  {
   "cell_type": "code",
   "execution_count": 16,
   "metadata": {},
   "outputs": [],
   "source": [
    "from sklearn.preprocessing import PolynomialFeatures as PolyFeat\n",
    "poly = PolyFeat(3)\n",
    "#poly.fit_transform(X)"
   ]
  },
  {
   "cell_type": "markdown",
   "metadata": {},
   "source": [
    "*Aide* En python, on peut donner en argument un dictionnaire de paramètres "
   ]
  },
  {
   "cell_type": "code",
   "execution_count": 17,
   "metadata": {},
   "outputs": [
    {
     "name": "stdout",
     "output_type": "stream",
     "text": [
      "[2.81721913 3.36599712 8.01954262 5.80406896 4.30494653]\n",
      "[True, True, False, False, False, True, True, True, True, False]\n",
      "[True, True, True, True, True, True, True, True, True, True]\n",
      "[True, True, True, True, True, True, False, False, True, True]\n",
      "[True, True, True, True, True, True, True, True, True, True]\n"
     ]
    }
   ],
   "source": [
    "dic = {'loc':5, 'scale':2}\n",
    "print(np.random.normal(size=5, **dic))\n",
    "\n",
    "def f(x, **kwargs):\n",
    "    return [i>0 for i in np.random.normal(size=x, **kwargs)]\n",
    "\n",
    "print(f(10))\n",
    "print(f(10, loc=20))\n",
    "print(f(10, loc=20, scale=100))\n",
    "dic = {'loc':5, 'scale':2}\n",
    "print(f(10,**dic))"
   ]
  },
  {
   "cell_type": "markdown",
   "metadata": {},
   "source": [
    "**Question** Il existe une fonction `make_pipeline` dans `sklearn` qui permet d'enchaîner des opérations très simplement. Définissez une nouvelle fonction `ma_regression` qui prend en argument un degré et une liste d'autres arguments destinés à la fonction `LinearRegression` et compose un changement de représentation polynomial et une régression."
   ]
  },
  {
   "cell_type": "code",
   "execution_count": 18,
   "metadata": {},
   "outputs": [
    {
     "data": {
      "text/plain": [
       "0.9050377687293201"
      ]
     },
     "execution_count": 18,
     "metadata": {},
     "output_type": "execute_result"
    }
   ],
   "source": [
    "from sklearn.pipeline import make_pipeline\n",
    "\n",
    "def ma_regression_test(d,**kwargs):\n",
    "    assert isinstance(d, int) and d>=0\n",
    "    assert isinstance(kwargs, dict)\n",
    "    #transformateur :\n",
    "    poly = PolyFeat(d)\n",
    "    X_transform = poly.fit_transform(kwargs[\"X\"])\n",
    "    #modèle :\n",
    "    modele = lm.LinearRegression()\n",
    "    modele.fit(X_transform, kwargs[\"y\"])\n",
    "    return modele\n",
    "\n",
    "d = 3\n",
    "args = {\"X\":X_train, \"y\":y_train}\n",
    "reg = ma_regression_test(3, **args)\n",
    "X_test_transform = PolyFeat(3).fit_transform(X_test)\n",
    "reg.score(X_test_transform, y_test)"
   ]
  },
  {
   "cell_type": "code",
   "execution_count": 19,
   "metadata": {},
   "outputs": [
    {
     "data": {
      "text/plain": [
       "0.9050377687293201"
      ]
     },
     "execution_count": 19,
     "metadata": {},
     "output_type": "execute_result"
    }
   ],
   "source": [
    "def ma_regression(d=1):\n",
    "    model = make_pipeline(PolyFeat(d),\n",
    "                           lm.LinearRegression())\n",
    "    return model\n",
    "\n",
    "regr = ma_regression(3).fit(X_train, y_train)\n",
    "regr.score(X_test, y_test)"
   ]
  },
  {
   "cell_type": "markdown",
   "metadata": {},
   "source": [
    "**Question**  Utilisez cette fonction pour estimer l'erreur d'une regression linéaire avec transformations polynomiales jusqu'au degré 3."
   ]
  },
  {
   "cell_type": "code",
   "execution_count": 20,
   "metadata": {},
   "outputs": [
    {
     "name": "stdout",
     "output_type": "stream",
     "text": [
      "d° = 1 -> score = 0.38765059933087775\n",
      "d° = 2 -> score = 0.466081656964889\n",
      "d° = 3 -> score = 0.9050377687293201\n"
     ]
    }
   ],
   "source": [
    "for k in range(1,3+1):\n",
    "    rg = ma_regression(k).fit(X_train, y_train)\n",
    "    print(f\"d° = {k} -> score = {rg.score(X_test, y_test)}\")"
   ]
  },
  {
   "cell_type": "markdown",
   "metadata": {},
   "source": [
    "## Courbe d'apprentissage en fonction du degré"
   ]
  },
  {
   "cell_type": "markdown",
   "metadata": {},
   "source": [
    "**Question** En utilisant `validation_curve`, réaliser une validation croisée 5 fois sur `X_train` en appliquant tous les changements de représentation avec un degré entre 1 et `max_degree` que nous fixons à 15. Pour cela, regardez l'aide de `validation_curve` dans `sklearn.model_selection`. Utilisez bien-sûr `ma_regression`. Cela donne des scores de validation comme cela :\n",
    "\n",
    "     [[ 0.49293082  0.66030384  0.65039394  0.69193837  0.6167657 ]\n",
    "      [ 0.57202662  0.66235604  0.60475979  0.73104306  0.61910942]\n",
    "      ...\n",
    "      [ 0.87350381  0.93056784 -0.56590723  0.87945086  0.87330041]]\n",
    "\n",
    "*Aide* : Dans les pipelines, on accède aux paramètres des éléments du pipeline avec la syntaxe `element__parametre`. Par défaut le nom de l'élément est le nom de la classe en minuscules."
   ]
  },
  {
   "cell_type": "code",
   "execution_count": 21,
   "metadata": {},
   "outputs": [],
   "source": [
    "from sklearn.model_selection import validation_curve as valid_curv\n",
    "#valid_curv?"
   ]
  },
  {
   "cell_type": "code",
   "execution_count": 22,
   "metadata": {},
   "outputs": [],
   "source": [
    "degree = np.arange(1,15+1)\n",
    "train_scores, test_scores = valid_curv(estimator=ma_regression(), X=X, y=y, param_name=\"polynomialfeatures__degree\", param_range=degree, cv=5)"
   ]
  },
  {
   "cell_type": "markdown",
   "metadata": {},
   "source": [
    "**Question** On peut donc ensuite tracer les courbes d'erreur d'entraînement et de validation. Puisqu'on a de la validation sur 5 parties, on obtient 5 résultats par degré. Pour la courbe on trace la valeur mediane (la moyenne sur 5 valeurs pouvant être plus fortement affectée par un très bon ou très mauvais résultat. Cela doit ressembler à cela. \n",
    "\n",
    "![validation et train](./validtrain.png)"
   ]
  },
  {
   "cell_type": "code",
   "execution_count": 23,
   "metadata": {},
   "outputs": [
    {
     "data": {
      "image/png": "[encoded data removed]",
      "text/plain": [
       "<Figure size 432x288 with 1 Axes>"
      ]
     },
     "metadata": {},
     "output_type": "display_data"
    }
   ],
   "source": [
    "plt.plot(degree, np.median(train_scores, axis=1), label=\"train\")\n",
    "plt.plot(degree, np.median(test_scores, axis=1), color='red', label=\"test\")\n",
    "plt.xlabel('d° polynome')\n",
    "plt.ylabel('score')\n",
    "plt.legend()\n",
    "plt.show()"
   ]
  },
  {
   "cell_type": "markdown",
   "metadata": {},
   "source": [
    "**Question** Quelle est votre interprétation des résultats observés?"
   ]
  },
  {
   "cell_type": "markdown",
   "metadata": {},
   "source": [
    "<font color='blue'/>\n",
    "On constate les scores du modèle pour les données `train` et `test` sont à leurs maximums pour un degrés de polynôme `d°=3`, nous donnant 90% de perfomance. Au-delà, on fait de fait de l'overfitting, ce qui diminu la performance de notre modèle."
   ]
  },
  {
   "cell_type": "markdown",
   "metadata": {},
   "source": [
    "**Question** tracer maintenant la figure montrant la courbe estimée et les points dans l'échantillon de valid et de train. Pour cela, j'ai utilisé `linspace` pour obtenir 100 points espacés régulièrement de l'intervalle $[min(X),max(X)]$, j'ai calculé leur prédiction et utilisé `plot` pour tracer la courbe et `scatter` avec l'option `s` pour changer la taille des points. Par exemple pour le degré 3 cela donne cela, mais regardez pour plusieurs valeurs des degrés\n",
    "\n",
    "![courbe finale](courbefinale.png)"
   ]
  },
  {
   "cell_type": "code",
   "execution_count": 24,
   "metadata": {},
   "outputs": [
    {
     "data": {
      "image/png": "[encoded data removed]",
      "text/plain": [
       "<Figure size 432x288 with 1 Axes>"
      ]
     },
     "metadata": {},
     "output_type": "display_data"
    }
   ],
   "source": [
    "x = np.linspace(X.min(), X.max(), 100).reshape(100,1)\n",
    "\n",
    "X_train, X_test, y_train, y_test = train_test_split(X, y, test_size=2/5)\n",
    "reg = ma_regression(3)\n",
    "reg.fit(X_train, y_train)\n",
    "\n",
    "plt.scatter(X_train, y_train, color=\"blue\", label=\"train\")\n",
    "plt.scatter(X_test, y_test, color=\"red\", label=\"test\")\n",
    "plt.plot(x, reg.predict(x), color=\"black\")\n",
    "plt.legend()\n",
    "plt.show()"
   ]
  },
  {
   "cell_type": "markdown",
   "metadata": {},
   "source": [
    "## Courbe d'apprentissage en fonction de la taille de l'échantillon"
   ]
  },
  {
   "cell_type": "markdown",
   "metadata": {},
   "source": [
    "Regardons maintenant la courbe d'apprentissage en fonction de la taille de l'échantillon. \n",
    "\n",
    "**Question** Lire le fichier `dataGrand.csv` et construire les matrices `X_g` (nd-array) et `y_g` (1d-array)."
   ]
  },
  {
   "cell_type": "code",
   "execution_count": 25,
   "metadata": {},
   "outputs": [],
   "source": [
    "df_g = pd.read_csv(\"dataGrand.csv\")\n",
    "X_g, y_g = np.array(df_g[[\"x\"]]), np.array(df_g[[\"t\"]])"
   ]
  },
  {
   "cell_type": "markdown",
   "metadata": {},
   "source": [
    "**Question** Utiliser maintenant `learning_curve` de la librairie `sklearn.model_selection`. En vous inspirant de l'exemple donné dans la [documentation](https://scikit-learn.org/stable/modules/learning_curve.html#validation-curve), calculez les résultats de l'apprentissage avec `ma_regression` pour les degrés $3, 5, 10, 15$ en prenant 10 tailles d'ensemble d'apprentissage entre 1% et 100% (avec `np.linspace(0.01, 1, 10)`)"
   ]
  },
  {
   "cell_type": "code",
   "execution_count": 26,
   "metadata": {},
   "outputs": [],
   "source": [
    "from sklearn.model_selection import learning_curve\n",
    "#learning_curve?"
   ]
  },
  {
   "cell_type": "code",
   "execution_count": 27,
   "metadata": {},
   "outputs": [
    {
     "ename": "ValueError",
     "evalue": "too many values to unpack (expected 2)",
     "output_type": "error",
     "traceback": [
      "\u001b[1;31m---------------------------------------------------------------------------\u001b[0m",
      "\u001b[1;31mValueError\u001b[0m                                Traceback (most recent call last)",
      "Input \u001b[1;32mIn [27]\u001b[0m, in \u001b[0;36m<cell line: 2>\u001b[1;34m()\u001b[0m\n\u001b[0;32m      1\u001b[0m \u001b[38;5;66;03m#Xg_train, Xg_test, yg_train, yg_test = train_test_split(X_g, y_g, test_size=2/5)\u001b[39;00m\n\u001b[1;32m----> 2\u001b[0m train_scores, test_scores \u001b[38;5;241m=\u001b[39m learning_curve(estimator\u001b[38;5;241m=\u001b[39mma_regression(), X\u001b[38;5;241m=\u001b[39mX_g, y\u001b[38;5;241m=\u001b[39my_g, train_sizes\u001b[38;5;241m=\u001b[39mnp\u001b[38;5;241m.\u001b[39mlinspace(\u001b[38;5;241m0.2\u001b[39m, \u001b[38;5;241m1\u001b[39m, \u001b[38;5;241m10\u001b[39m), cv\u001b[38;5;241m=\u001b[39m\u001b[38;5;241m5\u001b[39m)\n",
      "\u001b[1;31mValueError\u001b[0m: too many values to unpack (expected 2)"
     ]
    }
   ],
   "source": [
    "#Xg_train, Xg_test, yg_train, yg_test = train_test_split(X_g, y_g, test_size=2/5)\n",
    "train_scores, test_scores = learning_curve(estimator=ma_regression(), X=X_g, y=y_g, train_sizes=np.linspace(0.2, 1, 10), cv=5)"
   ]
  },
  {
   "cell_type": "markdown",
   "metadata": {},
   "source": [
    "**Question** Tracer les 4 courbes qui doivent ressemble à ce qui est ci-dessous et analysez les résultats. Qu'en concluez-vous ? \n",
    "\n",
    "![learning curve](learningCurve.png)"
   ]
  },
  {
   "cell_type": "code",
   "execution_count": null,
   "metadata": {},
   "outputs": [],
   "source": []
  },
  {
   "cell_type": "markdown",
   "metadata": {},
   "source": []
  },
  {
   "cell_type": "markdown",
   "metadata": {},
   "source": [
    "## Grid search"
   ]
  },
  {
   "cell_type": "markdown",
   "metadata": {},
   "source": [
    "Ici, on va faire de la recherche d'hyperparamètres en examinant de nombreuses valeurs pour plusieurs paramètres : on construit une grille de plusieurs valeurs possible. On fait ce qu'on appelle du *grid search* qui est en général assez coûteux..."
   ]
  },
  {
   "cell_type": "markdown",
   "metadata": {},
   "source": [
    "**Question** Charger les données de `dataPlusGrand.csv` dans `X_pg` et `y_pg`"
   ]
  },
  {
   "cell_type": "code",
   "execution_count": null,
   "metadata": {},
   "outputs": [],
   "source": []
  },
  {
   "cell_type": "markdown",
   "metadata": {},
   "source": [
    "**Question** faire un pipeline avec une transformation polynomiale des attributs et un estimateur de la classe `Ridge`"
   ]
  },
  {
   "cell_type": "code",
   "execution_count": null,
   "metadata": {},
   "outputs": [],
   "source": []
  },
  {
   "cell_type": "code",
   "execution_count": null,
   "metadata": {},
   "outputs": [],
   "source": []
  },
  {
   "cell_type": "markdown",
   "metadata": {},
   "source": [
    "**Question** Regarder l'aide sur `GridSearchCV`. Composer une grille de recherche en examinant tous les degres entre 1 et 15 et pour les valeurs de alpha dans l'ensemble `[1e-3, 1e-2, 1e-1, 1]`"
   ]
  },
  {
   "cell_type": "code",
   "execution_count": null,
   "metadata": {},
   "outputs": [],
   "source": []
  },
  {
   "cell_type": "code",
   "execution_count": null,
   "metadata": {},
   "outputs": [],
   "source": []
  },
  {
   "cell_type": "code",
   "execution_count": null,
   "metadata": {},
   "outputs": [],
   "source": []
  },
  {
   "cell_type": "code",
   "execution_count": null,
   "metadata": {},
   "outputs": [],
   "source": []
  },
  {
   "cell_type": "markdown",
   "metadata": {},
   "source": [
    "**Question** Quels sont les meilleurs paramètres ? Quel est le score du meilleur modèle sur `X_pg`, `y_pg` ?"
   ]
  },
  {
   "cell_type": "code",
   "execution_count": null,
   "metadata": {},
   "outputs": [],
   "source": []
  },
  {
   "cell_type": "code",
   "execution_count": null,
   "metadata": {},
   "outputs": [],
   "source": []
  },
  {
   "cell_type": "code",
   "execution_count": null,
   "metadata": {},
   "outputs": [],
   "source": []
  }
 ],
 "metadata": {
  "kernelspec": {
   "display_name": "Python 3 (ipykernel)",
   "language": "python",
   "name": "python3"
  },
  "language_info": {
   "codemirror_mode": {
    "name": "ipython",
    "version": 3
   },
   "file_extension": ".py",
   "mimetype": "text/x-python",
   "name": "python",
   "nbconvert_exporter": "python",
   "pygments_lexer": "ipython3",
   "version": "3.9.12"
  }
 },
 "nbformat": 4,
 "nbformat_minor": 4
}
